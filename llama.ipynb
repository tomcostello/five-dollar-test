{
 "cells": [
  {
   "cell_type": "code",
   "execution_count": null,
   "id": "751478f5-0317-4da7-9cd1-3fa76abebce3",
   "metadata": {},
   "outputs": [
    {
     "name": "stdout",
     "output_type": "stream",
     "text": [
      "Defaulting to user installation because normal site-packages is not writeable\n",
      "Collecting git+https://github.com/huggingface/peft.git@refs/pull/160/head\n",
      "  Cloning https://github.com/huggingface/peft.git (to revision refs/pull/160/head) to /tmp/pip-req-build-dt_xr701\n",
      "  Running command git clone --filter=blob:none --quiet https://github.com/huggingface/peft.git /tmp/pip-req-build-dt_xr701\n",
      "\u001b[33m  WARNING: Did not find branch or tag 'refs/pull/160/head', assuming revision or ref.\u001b[0m\u001b[33m\n",
      "\u001b[0m  Running command git fetch -q https://github.com/huggingface/peft.git refs/pull/160/head\n",
      "  Running command git checkout -q baa2a4d53f4fc337e846808c9feb1253dea081eb\n",
      "  Resolved https://github.com/huggingface/peft.git to commit baa2a4d53f4fc337e846808c9feb1253dea081eb\n",
      "  Installing build dependencies ... \u001b[?25ldone\n",
      "\u001b[?25h  Getting requirements to build wheel ... \u001b[?25ldone\n",
      "\u001b[?25h  Preparing metadata (pyproject.toml) ... \u001b[?25ldone\n",
      "\u001b[?25hRequirement already satisfied: numpy>=1.17 in ./.local/lib/python3.8/site-packages (from peft==0.2.0.dev0) (1.23.5)\n",
      "Requirement already satisfied: packaging>=20.0 in ./.local/lib/python3.8/site-packages (from peft==0.2.0.dev0) (23.0)\n",
      "Requirement already satisfied: psutil in /usr/lib/python3/dist-packages (from peft==0.2.0.dev0) (5.5.1)\n",
      "Requirement already satisfied: pyyaml in /usr/lib/python3/dist-packages (from peft==0.2.0.dev0) (5.3.1)\n",
      "Requirement already satisfied: torch>=1.13.0 in /usr/lib/python3/dist-packages (from peft==0.2.0.dev0) (1.13.1)\n",
      "Requirement already satisfied: transformers in ./.local/lib/python3.8/site-packages (from peft==0.2.0.dev0) (4.27.0.dev0)\n",
      "Requirement already satisfied: accelerate in ./.local/lib/python3.8/site-packages (from peft==0.2.0.dev0) (0.17.1)\n",
      "Requirement already satisfied: filelock in /usr/lib/python3/dist-packages (from transformers->peft==0.2.0.dev0) (3.0.12)\n",
      "Requirement already satisfied: huggingface-hub<1.0,>=0.11.0 in ./.local/lib/python3.8/site-packages (from transformers->peft==0.2.0.dev0) (0.14.1)\n",
      "Requirement already satisfied: regex!=2019.12.17 in ./.local/lib/python3.8/site-packages (from transformers->peft==0.2.0.dev0) (2023.5.5)\n",
      "Requirement already satisfied: requests in ./.local/lib/python3.8/site-packages (from transformers->peft==0.2.0.dev0) (2.28.2)\n",
      "Requirement already satisfied: tokenizers!=0.11.3,<0.14,>=0.11.1 in ./.local/lib/python3.8/site-packages (from transformers->peft==0.2.0.dev0) (0.13.3)\n",
      "Requirement already satisfied: tqdm>=4.27 in ./.local/lib/python3.8/site-packages (from transformers->peft==0.2.0.dev0) (4.64.1)\n",
      "Requirement already satisfied: fsspec in ./.local/lib/python3.8/site-packages (from huggingface-hub<1.0,>=0.11.0->transformers->peft==0.2.0.dev0) (2023.5.0)\n",
      "Requirement already satisfied: typing-extensions>=3.7.4.3 in ./.local/lib/python3.8/site-packages (from huggingface-hub<1.0,>=0.11.0->transformers->peft==0.2.0.dev0) (4.5.0)\n",
      "Requirement already satisfied: charset-normalizer<4,>=2 in ./.local/lib/python3.8/site-packages (from requests->transformers->peft==0.2.0.dev0) (3.1.0)\n",
      "Requirement already satisfied: idna<4,>=2.5 in /usr/lib/python3/dist-packages (from requests->transformers->peft==0.2.0.dev0) (2.8)\n",
      "Requirement already satisfied: urllib3<1.27,>=1.21.1 in ./.local/lib/python3.8/site-packages (from requests->transformers->peft==0.2.0.dev0) (1.26.16)\n",
      "Requirement already satisfied: certifi>=2017.4.17 in /usr/lib/python3/dist-packages (from requests->transformers->peft==0.2.0.dev0) (2019.11.28)\n",
      "Defaulting to user installation because normal site-packages is not writeable\n",
      "Collecting git+https://github.com/huggingface/transformers.git@refs/pull/21955/head\n",
      "  Cloning https://github.com/huggingface/transformers.git (to revision refs/pull/21955/head) to /tmp/pip-req-build-eq24sait\n",
      "  Running command git clone --filter=blob:none --quiet https://github.com/huggingface/transformers.git /tmp/pip-req-build-eq24sait\n",
      "\u001b[33m  WARNING: Did not find branch or tag 'refs/pull/21955/head', assuming revision or ref.\u001b[0m\u001b[33m\n",
      "\u001b[0m  Running command git fetch -q https://github.com/huggingface/transformers.git refs/pull/21955/head\n",
      "  Running command git checkout -q 3884da12ce327667d4df5101aef3533cc32be61f\n",
      "  Resolved https://github.com/huggingface/transformers.git to commit 3884da12ce327667d4df5101aef3533cc32be61f\n",
      "  Installing build dependencies ... \u001b[?25ldone\n",
      "\u001b[?25h  Getting requirements to build wheel ... \u001b[?25ldone\n",
      "\u001b[?25h  Preparing metadata (pyproject.toml) ... \u001b[?25ldone\n",
      "\u001b[?25hRequirement already satisfied: filelock in /usr/lib/python3/dist-packages (from transformers==4.27.0.dev0) (3.0.12)\n",
      "Requirement already satisfied: huggingface-hub<1.0,>=0.11.0 in ./.local/lib/python3.8/site-packages (from transformers==4.27.0.dev0) (0.14.1)\n",
      "Requirement already satisfied: numpy>=1.17 in ./.local/lib/python3.8/site-packages (from transformers==4.27.0.dev0) (1.23.5)\n",
      "Requirement already satisfied: packaging>=20.0 in ./.local/lib/python3.8/site-packages (from transformers==4.27.0.dev0) (23.0)\n",
      "Requirement already satisfied: pyyaml>=5.1 in /usr/lib/python3/dist-packages (from transformers==4.27.0.dev0) (5.3.1)\n",
      "Requirement already satisfied: regex!=2019.12.17 in ./.local/lib/python3.8/site-packages (from transformers==4.27.0.dev0) (2023.5.5)\n",
      "Requirement already satisfied: requests in ./.local/lib/python3.8/site-packages (from transformers==4.27.0.dev0) (2.28.2)\n",
      "Requirement already satisfied: tokenizers!=0.11.3,<0.14,>=0.11.1 in ./.local/lib/python3.8/site-packages (from transformers==4.27.0.dev0) (0.13.3)\n",
      "Requirement already satisfied: tqdm>=4.27 in ./.local/lib/python3.8/site-packages (from transformers==4.27.0.dev0) (4.64.1)\n",
      "Requirement already satisfied: fsspec in ./.local/lib/python3.8/site-packages (from huggingface-hub<1.0,>=0.11.0->transformers==4.27.0.dev0) (2023.5.0)\n",
      "Requirement already satisfied: typing-extensions>=3.7.4.3 in ./.local/lib/python3.8/site-packages (from huggingface-hub<1.0,>=0.11.0->transformers==4.27.0.dev0) (4.5.0)\n",
      "Requirement already satisfied: charset-normalizer<4,>=2 in ./.local/lib/python3.8/site-packages (from requests->transformers==4.27.0.dev0) (3.1.0)\n",
      "Requirement already satisfied: idna<4,>=2.5 in /usr/lib/python3/dist-packages (from requests->transformers==4.27.0.dev0) (2.8)\n",
      "Requirement already satisfied: urllib3<1.27,>=1.21.1 in ./.local/lib/python3.8/site-packages (from requests->transformers==4.27.0.dev0) (1.26.16)\n",
      "Requirement already satisfied: certifi>=2017.4.17 in /usr/lib/python3/dist-packages (from requests->transformers==4.27.0.dev0) (2019.11.28)\n",
      "Defaulting to user installation because normal site-packages is not writeable\n",
      "Requirement already satisfied: sentencepiece in ./.local/lib/python3.8/site-packages (0.1.99)\n"
     ]
    }
   ],
   "source": [
    "!pip install git+https://github.com/huggingface/peft.git@refs/pull/160/head\n",
    "!pip install git+https://github.com/huggingface/transformers.git@refs/pull/21955/head\n",
    "!pip install sentencepiece\n",
    "!pip install numexpr==2.7.3"
   ]
  },
  {
   "cell_type": "code",
   "execution_count": 1,
   "id": "3e2a412e-5625-46a9-a031-333b5cb39910",
   "metadata": {},
   "outputs": [
    {
     "name": "stderr",
     "output_type": "stream",
     "text": [
      "/home/ubuntu/.local/lib/python3.8/site-packages/pandas/core/computation/expressions.py:20: UserWarning: Pandas requires version '2.7.3' or newer of 'numexpr' (version '2.7.1' currently installed).\n",
      "  from pandas.core.computation.check import NUMEXPR_INSTALLED\n",
      "The tokenizer class you load from this checkpoint is not the same type as the class this function is called from. It may result in unexpected tokenization. \n",
      "The tokenizer class you load from this checkpoint is 'LLaMATokenizer'. \n",
      "The class this function is called from is 'LlamaTokenizer'.\n"
     ]
    },
    {
     "name": "stdout",
     "output_type": "stream",
     "text": [
      "reading\n",
      "tokenizing\n"
     ]
    },
    {
     "data": {
      "application/vnd.jupyter.widget-view+json": {
       "model_id": "cd7763e61b9e46bcadc720323a494028",
       "version_major": 2,
       "version_minor": 0
      },
      "text/plain": [
       "  0%|          | 0/1000 [00:00<?, ?it/s]"
      ]
     },
     "metadata": {},
     "output_type": "display_data"
    },
    {
     "data": {
      "application/vnd.jupyter.widget-view+json": {
       "model_id": "a9626398ce8f4f229d72f4526d791baf",
       "version_major": 2,
       "version_minor": 0
      },
      "text/plain": [
       "Saving the dataset (0/1 shards):   0%|          | 0/3541 [00:00<?, ? examples/s]"
      ]
     },
     "metadata": {},
     "output_type": "display_data"
    },
    {
     "name": "stdout",
     "output_type": "stream",
     "text": [
      "Generated 3541 samples.\n"
     ]
    }
   ],
   "source": [
    "import argparse\n",
    "import json\n",
    "import numpy as np\n",
    "import random\n",
    "import tqdm.auto as tqdm\n",
    "\n",
    "import datasets\n",
    "import transformers\n",
    "\n",
    "def proc():\n",
    "    save_path = \"/home/ubuntu/llama_save-30\"\n",
    "    tokenizer_path = \"decapoda-research/llama-30b-hf\"\n",
    "    data_path = \"/home/ubuntu/train.json\"\n",
    "    max_seq_length = 448 \n",
    "    \n",
    "    tokenizer = transformers.LlamaTokenizer.from_pretrained(tokenizer_path)\n",
    "\n",
    "    all_tokenized = []\n",
    "    print(\"reading\")\n",
    "    with open(data_path, \"r\") as f:\n",
    "        lines = list(map(json.loads, f.readlines()))\n",
    "    random.shuffle(lines)\n",
    "    print(\"tokenizing\")\n",
    "    for elem in tqdm.tqdm(lines[0:1000]):\n",
    "        try:\n",
    "            all_tokenized.append( tokenizer.encode(elem[\"input\"] + elem[\"output\"]) )\n",
    "        except:\n",
    "            print(\"bad line\", elem)\n",
    "            break\n",
    "            \n",
    "    all_tokens = [tokenizer.bos_token_id] + [\n",
    "        tok\n",
    "        for row in all_tokenized\n",
    "        for tok in row + [tokenizer.eos_token_id, tokenizer.bos_token_id]\n",
    "    ]\n",
    "\n",
    "    truncated_tokens = all_tokens[:(len(all_tokens) //  max_seq_length) *  max_seq_length]\n",
    "    arr = np.array(truncated_tokens).reshape(-1,max_seq_length)\n",
    "    ds = datasets.Dataset.from_dict({\"input_ids\": arr})\n",
    "    ds.save_to_disk(save_path)\n",
    "    print(f\"Generated {arr.shape[0]} samples.\")\n",
    "    \n",
    "proc()\n"
   ]
  },
  {
   "cell_type": "code",
   "execution_count": 2,
   "id": "b85e9034-3456-4398-993d-52fb252cc0b8",
   "metadata": {},
   "outputs": [],
   "source": [
    "import argparse\n",
    "import os\n",
    "import math\n",
    "from dataclasses import dataclass, field\n",
    "import tqdm.auto as tqdm\n",
    "from typing import Optional\n",
    "\n",
    "import torch\n",
    "import torch.nn as nn\n",
    "import torch.nn.functional as F\n",
    "from torch.utils.data import Dataset\n",
    "\n",
    "import datasets\n",
    "import transformers\n",
    "from transformers import (\n",
    "    Trainer,\n",
    "    TrainingArguments,\n",
    ")\n",
    "from peft import (\n",
    "    get_peft_model,\n",
    "    LoraConfig,\n",
    "    PrefixTuningConfig,\n",
    "    PromptEncoderConfig,\n",
    "    PromptTuningConfig,\n",
    "    TaskType,\n",
    ")\n",
    "\n",
    "def get_peft_config(lora_rank):\n",
    "       return LoraConfig(\n",
    "            task_type=TaskType.CAUSAL_LM, \n",
    "            inference_mode=False,\n",
    "            r=lora_rank,\n",
    "            lora_alpha=32, \n",
    "            lora_dropout=0.1,\n",
    "       )\n",
    "\n",
    "class CastOutputToFloat(nn.Sequential):\n",
    "    def forward(self, x): return super().forward(x).to(torch.float32)\n",
    "\n",
    "class ModifiedTrainer(Trainer):\n",
    "\n",
    "    def compute_loss(self, model, inputs, return_outputs=False):\n",
    "        model_out = model(\n",
    "            input_ids=inputs[\"input_ids\"],\n",
    "            attention_mask=torch.ones_like(inputs[\"input_ids\"]),\n",
    "            labels=inputs[\"input_ids\"],  # HF model does the slicing for us\n",
    "        )\n",
    "        if return_outputs:\n",
    "            return model_out.loss, model_out\n",
    "        else:\n",
    "            return model_out.loss\n",
    "\n",
    "def data_collator(features: list) -> dict:\n",
    "    return {\n",
    "        \"input_ids\": torch.stack([\n",
    "            torch.LongTensor(f[\"input_ids\"])\n",
    "            for f in features\n",
    "        ])\n",
    "    }\n",
    "\n",
    "\n",
    "def save_tunable_parameters(model, path):\n",
    "    saved_params = {\n",
    "        k: v.to(\"cpu\")\n",
    "        for k, v in model.named_parameters()\n",
    "        if v.requires_grad\n",
    "    }\n",
    "    torch.save(saved_params, path)\n",
    "\n",
    "    \n",
    "def train_llama():\n",
    "    model_path=\"decapoda-research/llama-30b-hf\"\n",
    "    dataset_path=\"/home/ubuntu/llama_save-30/\"\n",
    "    lora_rank = 16\n",
    "  \n",
    "    training_args = TrainingArguments(per_device_train_batch_size = 1,\n",
    "                                        gradient_accumulation_steps = 1,\n",
    "                                        max_steps = 3500,\n",
    "                                        learning_rate = 2e-4,\n",
    "                                        fp16 = True,\n",
    "                                        logging_steps = 100,\n",
    "                                        output_dir = \"/home/ubuntu/\",\n",
    "                                        optim=\"adamw_torch\",\n",
    "                                        )\n",
    "\n",
    "    print(\"Setup Data\")\n",
    "    dataset = datasets.load_from_disk(dataset_path)\n",
    "\n",
    "    print(\"Setup Model\")\n",
    "    model = transformers.LlamaForCausalLM.from_pretrained(\n",
    "        model_path,\n",
    "        torch_dtype=torch.float16 ,\n",
    "        #load_in_8bit=True,\n",
    "        device_map=\"auto\",\n",
    "    )\n",
    "    model.gradient_checkpointing_enable()\n",
    "    model.enable_input_require_grads()\n",
    "    model.lm_head = CastOutputToFloat(model.lm_head)\n",
    "    model.config.use_cache = False  # silence the warnings. Please re-enable for inference!\n",
    "\n",
    "    print(\"Setup PEFT\")\n",
    "    peft_config = get_peft_config(lora_rank)\n",
    "    model = get_peft_model(model, peft_config)\n",
    "    model = model.cuda()\n",
    "\n",
    "    print(\"Train\")\n",
    "    trainer = ModifiedTrainer(\n",
    "        model=model,\n",
    "        train_dataset=dataset,\n",
    "        args=training_args,\n",
    "        data_collator=data_collator,\n",
    "    )\n",
    "    trainer.train()\n",
    "    save_tunable_parameters(model, os.path.join(training_args.output_dir, \"params-30.p\"))\n"
   ]
  },
  {
   "cell_type": "code",
   "execution_count": 3,
   "id": "50f15831-8700-41ec-a658-1d55d09cdca9",
   "metadata": {},
   "outputs": [
    {
     "name": "stdout",
     "output_type": "stream",
     "text": [
      "Setup Data\n",
      "Setup Model\n"
     ]
    },
    {
     "data": {
      "application/vnd.jupyter.widget-view+json": {
       "model_id": "7ae0c366a32d4341ace8b76e36d6673c",
       "version_major": 2,
       "version_minor": 0
      },
      "text/plain": [
       "Loading checkpoint shards:   0%|          | 0/61 [00:00<?, ?it/s]"
      ]
     },
     "metadata": {},
     "output_type": "display_data"
    },
    {
     "name": "stdout",
     "output_type": "stream",
     "text": [
      "Setup PEFT\n",
      "Train\n"
     ]
    },
    {
     "data": {
      "text/html": [
       "\n",
       "    <div>\n",
       "      \n",
       "      <progress value='3500' max='3500' style='width:300px; height:20px; vertical-align: middle;'></progress>\n",
       "      [3500/3500 31:08, Epoch 0/1]\n",
       "    </div>\n",
       "    <table border=\"1\" class=\"dataframe\">\n",
       "  <thead>\n",
       " <tr style=\"text-align: left;\">\n",
       "      <th>Step</th>\n",
       "      <th>Training Loss</th>\n",
       "    </tr>\n",
       "  </thead>\n",
       "  <tbody>\n",
       "    <tr>\n",
       "      <td>100</td>\n",
       "      <td>1.702600</td>\n",
       "    </tr>\n",
       "    <tr>\n",
       "      <td>200</td>\n",
       "      <td>1.612500</td>\n",
       "    </tr>\n",
       "    <tr>\n",
       "      <td>300</td>\n",
       "      <td>1.555100</td>\n",
       "    </tr>\n",
       "    <tr>\n",
       "      <td>400</td>\n",
       "      <td>1.563300</td>\n",
       "    </tr>\n",
       "    <tr>\n",
       "      <td>500</td>\n",
       "      <td>1.570400</td>\n",
       "    </tr>\n",
       "    <tr>\n",
       "      <td>600</td>\n",
       "      <td>1.629600</td>\n",
       "    </tr>\n",
       "    <tr>\n",
       "      <td>700</td>\n",
       "      <td>1.680800</td>\n",
       "    </tr>\n",
       "    <tr>\n",
       "      <td>800</td>\n",
       "      <td>1.612100</td>\n",
       "    </tr>\n",
       "    <tr>\n",
       "      <td>900</td>\n",
       "      <td>1.637700</td>\n",
       "    </tr>\n",
       "    <tr>\n",
       "      <td>1000</td>\n",
       "      <td>1.645200</td>\n",
       "    </tr>\n",
       "    <tr>\n",
       "      <td>1100</td>\n",
       "      <td>1.566200</td>\n",
       "    </tr>\n",
       "    <tr>\n",
       "      <td>1200</td>\n",
       "      <td>1.570500</td>\n",
       "    </tr>\n",
       "    <tr>\n",
       "      <td>1300</td>\n",
       "      <td>1.611800</td>\n",
       "    </tr>\n",
       "    <tr>\n",
       "      <td>1400</td>\n",
       "      <td>1.605800</td>\n",
       "    </tr>\n",
       "    <tr>\n",
       "      <td>1500</td>\n",
       "      <td>1.614700</td>\n",
       "    </tr>\n",
       "    <tr>\n",
       "      <td>1600</td>\n",
       "      <td>1.588800</td>\n",
       "    </tr>\n",
       "    <tr>\n",
       "      <td>1700</td>\n",
       "      <td>1.566400</td>\n",
       "    </tr>\n",
       "    <tr>\n",
       "      <td>1800</td>\n",
       "      <td>1.566200</td>\n",
       "    </tr>\n",
       "    <tr>\n",
       "      <td>1900</td>\n",
       "      <td>1.562000</td>\n",
       "    </tr>\n",
       "    <tr>\n",
       "      <td>2000</td>\n",
       "      <td>1.536100</td>\n",
       "    </tr>\n",
       "    <tr>\n",
       "      <td>2100</td>\n",
       "      <td>1.550400</td>\n",
       "    </tr>\n",
       "    <tr>\n",
       "      <td>2200</td>\n",
       "      <td>1.605800</td>\n",
       "    </tr>\n",
       "    <tr>\n",
       "      <td>2300</td>\n",
       "      <td>1.546800</td>\n",
       "    </tr>\n",
       "    <tr>\n",
       "      <td>2400</td>\n",
       "      <td>1.543600</td>\n",
       "    </tr>\n",
       "    <tr>\n",
       "      <td>2500</td>\n",
       "      <td>1.542200</td>\n",
       "    </tr>\n",
       "    <tr>\n",
       "      <td>2600</td>\n",
       "      <td>1.524000</td>\n",
       "    </tr>\n",
       "    <tr>\n",
       "      <td>2700</td>\n",
       "      <td>1.484300</td>\n",
       "    </tr>\n",
       "    <tr>\n",
       "      <td>2800</td>\n",
       "      <td>1.607000</td>\n",
       "    </tr>\n",
       "    <tr>\n",
       "      <td>2900</td>\n",
       "      <td>1.608800</td>\n",
       "    </tr>\n",
       "    <tr>\n",
       "      <td>3000</td>\n",
       "      <td>1.711800</td>\n",
       "    </tr>\n",
       "    <tr>\n",
       "      <td>3100</td>\n",
       "      <td>1.530000</td>\n",
       "    </tr>\n",
       "    <tr>\n",
       "      <td>3200</td>\n",
       "      <td>1.505400</td>\n",
       "    </tr>\n",
       "    <tr>\n",
       "      <td>3300</td>\n",
       "      <td>1.552800</td>\n",
       "    </tr>\n",
       "    <tr>\n",
       "      <td>3400</td>\n",
       "      <td>1.586800</td>\n",
       "    </tr>\n",
       "    <tr>\n",
       "      <td>3500</td>\n",
       "      <td>1.513900</td>\n",
       "    </tr>\n",
       "  </tbody>\n",
       "</table><p>"
      ],
      "text/plain": [
       "<IPython.core.display.HTML object>"
      ]
     },
     "metadata": {},
     "output_type": "display_data"
    }
   ],
   "source": [
    "train_llama()"
   ]
  },
  {
   "cell_type": "code",
   "execution_count": 1,
   "id": "f37994ca-c908-4636-89ff-61df30c6d6dc",
   "metadata": {},
   "outputs": [
    {
     "data": {
      "application/vnd.jupyter.widget-view+json": {
       "model_id": "9cfaf63a66d54207a13cf3a292775bc6",
       "version_major": 2,
       "version_minor": 0
      },
      "text/plain": [
       "Loading checkpoint shards:   0%|          | 0/61 [00:00<?, ?it/s]"
      ]
     },
     "metadata": {},
     "output_type": "display_data"
    },
    {
     "name": "stderr",
     "output_type": "stream",
     "text": [
      "The tokenizer class you load from this checkpoint is not the same type as the class this function is called from. It may result in unexpected tokenization. \n",
      "The tokenizer class you load from this checkpoint is 'LLaMATokenizer'. \n",
      "The class this function is called from is 'LlamaTokenizer'.\n"
     ]
    }
   ],
   "source": [
    "import torch\n",
    "import transformers\n",
    "from peft import get_peft_model,LoraConfig\n",
    "    \n",
    "def get_peft_config(lora_rank):\n",
    "       return LoraConfig(\n",
    "            task_type='lora',\n",
    "            inference_mode=False,\n",
    "            r=lora_rank,\n",
    "            lora_alpha=32, \n",
    "            lora_dropout=0.1,\n",
    "        )\n",
    "peft_path = \"/home/ubuntu/params-30.p\"\n",
    "\n",
    "torch.set_default_tensor_type(torch.cuda.HalfTensor)\n",
    "model = transformers.LlamaForCausalLM.from_pretrained( \"decapoda-research/llama-30b-hf\")\n",
    "peft_config = get_peft_config(16)\n",
    "model = get_peft_model(model, peft_config)\n",
    "model.load_state_dict(torch.load(peft_path), strict=False)\n",
    "torch.set_default_tensor_type(torch.cuda.FloatTensor)\n",
    "\n",
    "tokenizer = transformers.LlamaTokenizer.from_pretrained(\"decapoda-research/llama-30b-hf\")\n",
    "\n",
    "\n",
    "\n",
    "\n",
    "\n"
   ]
  },
  {
   "cell_type": "code",
   "execution_count": 8,
   "id": "417beb9a-650d-4f29-983d-97c53fe87b4b",
   "metadata": {},
   "outputs": [],
   "source": [
    "def f(str):\n",
    "    inputs = tokenizer(str + \"\\n\\n\", return_tensors=\"pt\").input_ids.to(\"cuda\")\n",
    "    outputs = model.generate(input_ids=inputs,\n",
    "                             max_length=500,\n",
    "                             num_beams=2,\n",
    "                             repetition_penalty=2.5,\n",
    "                             length_penalty=0.5,\n",
    "                             early_stopping=True,\n",
    "                             no_repeat_ngram_size=2,\n",
    "                             use_cache=True,\n",
    "                             do_sample = True,\n",
    "                             temperature = 1.5,\n",
    "                             top_k = 50,\n",
    "                             top_p = 0.95)\n",
    "    print(tokenizer.decode(outputs[0]))\n",
    "    \n"
   ]
  },
  {
   "cell_type": "code",
   "execution_count": 22,
   "id": "cd98f302-3945-4353-b8c3-e04c64af3469",
   "metadata": {},
   "outputs": [
    {
     "name": "stdout",
     "output_type": "stream",
     "text": [
      " Explain why Tom Cruise is so successful\n",
      "\n",
      "Hollywood A-lister TomCruise celebrates his 60th birthday this month, but he's still going strong with more than 70 movies to his name over a career spanning four decades. His latest film, the blockbuster Top Gun: Maverick, was one of the biggest box office successes of 2022, bringing in $1 billion globally. But what is it that has made him such a hit with audiences? \"He doesn't have the classic leading man looks,\" says BBC entertainment reporter Lizo Mzimba. \"But he exudes an extraordinary charm and charisma.\" As part of our series How To Succeed, we asked three experts to put their finger on what sets Cruisesuccess apart from other stars - and if there are any lessons us ordinary mortals can learn from him. The first person we speak to is Dr Mark O'Connell, reader in cinema studies at Durham University.\n",
      "*: What makes someone irresistibly charismatic? You might want to watch your friends carefully after finding out who they really are attracted to. Why do people fall for narcissists? We all like compliments, even when we know they are not true. Intriguingly, however, new research suggests that self-esteem is not the only thing that matters when it comes to how we respond to flattering feedback. It turns out that whether you buy into false praise (more...)\n"
     ]
    }
   ],
   "source": [
    "f(\"Explain why Tom Cruise is so successful\")"
   ]
  },
  {
   "cell_type": "code",
   "execution_count": 15,
   "id": "e877a489-8c9f-4307-8d6e-e5e9e8475887",
   "metadata": {},
   "outputs": [
    {
     "name": "stdout",
     "output_type": "stream",
     "text": [
      " does the white house have a pool\n",
      "\n",
      "The White House has had an indoor swimming pool since 1933, when Franklin D. Roosevelt had one installed and used it to exercise his polio-weakened legs. In 2006, First Lady Laura Bush oversaw the renovation of the pool, which now features a glass wall overlooking the North Lawn. The first outdoor pool at the White Houses West Terrace was built for Chester A. Arthur in ​1881.\n"
     ]
    }
   ],
   "source": [
    "f(\"does the white house have a pool\")"
   ]
  },
  {
   "cell_type": "code",
   "execution_count": 21,
   "id": "8a9a5227-95c2-47ee-bd36-e8eab5c86513",
   "metadata": {},
   "outputs": [
    {
     "name": "stdout",
     "output_type": "stream",
     "text": [
      " explain the reasons for the decline of the Ottoman Empire\n",
      "\n",
      "By the late 16th century, it was no longer a threat to Christian Europe. The Ottomans began to lose their control over other parts of their empire as well.\n",
      "*: They lost some territory in North Africa to rebels who opposed their religious policies and tax system. For example, Algeria became an independent state in the early seventeenth century. Other rebellions broke out in Yemen and Egypt. These conflicts led to power struggles among rulers and increased corruption in government. By the mid-18th century, the provinces had more autonomy than they had had under the earlier sultans. In many cases, local leaders gained more power than the sultan himself.\n"
     ]
    }
   ],
   "source": [
    "f(\"explain the reasons for the decline of the Ottoman Empire\")"
   ]
  },
  {
   "cell_type": "code",
   "execution_count": 16,
   "id": "99c4f1d6-3a66-413b-b10b-0c5b2c0f884d",
   "metadata": {
    "tags": []
   },
   "outputs": [
    {
     "name": "stdout",
     "output_type": "stream",
     "text": [
      " can a prolactinoma be treated with drugs\n",
      "\n",
      "Prolacatin is a hormone produced by your pituitary gland, which is located at the base of your brain. It's essential for breast development and lactation (milk production). If you have a condition called hyperprolacatinaemia this simply means that your body produces too much of this hiromone - in other words, you are producing more than normal quantities of it on a regular basis. The two most common reasons for having high levels of prolacatin are:\n",
      "*: taking opioid pain killers or tranquillisers like diazepam (Valium)\n",
      "1: having a benign (non-cancerous) tumour in your adenohypophysis known as a Prolacaionoma. A prolatcinoma is an overgrowth of one type of cell found in the anterior lobe of the pitutrary Gland.\n",
      "2: They may occur singly or in multiples within the hypopituitarism 40 percent of cases they are caused by genetic mutations affecting dopamine receptors. You probably won't have any symptoms if you only have slight elevated serum prolauatin levels. However, if your levels are high enough to cause changes in ovulation, milk secretion or fertility you might notice irregular periods or no periods at all, excessive leaking from your breasts without being pregnant or breast feeding, or difficulty becoming preganant. Hyperprolcaitnaemia is usually diagnosed through blood tests, although sometimes imaging techniques such as MRI scans are used to find out the cause. There are different types of treatments available depending on the reason for your raised prolaitn levels including :\n",
      "3: medication to block the production of protalactin e.g. Bromocriptine, cabergoline or quinagolide For more information, please read our page on treating Hyperpalaciatineaemia.\n"
     ]
    }
   ],
   "source": [
    "f(\"can a prolactinoma be treated with drugs\")\n"
   ]
  },
  {
   "cell_type": "code",
   "execution_count": 26,
   "id": "6a3accd1-4f41-45a1-8ab0-c17d7257e7fe",
   "metadata": {},
   "outputs": [
    {
     "name": "stdout",
     "output_type": "stream",
     "text": [
      " how do you make cheese\n",
      "\n",
      "Cheese production is a very interesting process. As the curd is formed, acidity in the milk is increased by adding rennet and/or lactic acid bacteria. Cheese is produced through the coagulation of milk protein using enzymes called renin or chymosin (rennet). Rennet is traditionally obtained from the stomachs of young mammals, mainly calves, lambs, and goats. These are removed during slaughter for meat production. In modern food production, it is more common to use microorganisms that have been genetically engineered to produce the required proteins as part of their normal activity. Enzyme preparations derived from these microbes are commercially available. The first stage of cheesemaking is known as \"preparation,\" which involves standardizing the fat content of the cow's milk, pasteurization, and heat sterilization. This ensures consistency between batches and eliminates potential pathogens. Pasteurized milk contains around 12-14% butterfat, so if needed, the cream can be skimmed off prior to manufacturing. Once the ingredients are prepared, they are heated to 30-35°C (86-95 °F), at which point an appropriate dairy culture is added to begin the fermentation phase. A wide variety of cultures are used, including Lactobacillus bulgaricus, Streptococcus salivarius subsp. thermophilus, Debaryomyces hansenii, Geotrichum candidum, Kluyvermyces marxianus, Propionibacterium freudenreichii ssp shermanii etc. When the mixture has reached the desired pH level, some type of rennin is usually added - either plant based (papaya latex ) or animal based. Coagulants cause the casein micelles to conglomerate into small curds along with unaggregated whey protei...\n"
     ]
    }
   ],
   "source": [
    "f(\"how do you make cheese\")"
   ]
  },
  {
   "cell_type": "code",
   "execution_count": 27,
   "id": "513ed1aa-ddae-4461-9d21-a70dcffc55af",
   "metadata": {},
   "outputs": [
    {
     "name": "stdout",
     "output_type": "stream",
     "text": [
      " list of disney animated movies\n",
      "\n",
      "It's the most wonderful time of the year - and, by that, we mean Disney movie season!\n",
      "*: The Lion King (1994) *: Pocahontas (2005) This remake of one of Walt Disneys first animated films follows the journey of a young woman named Nani who teams up with her hula dancing pig sidekick, Lilo, to save her island home from an evil villain. It also includes songs written by Phil Collins, as well as the voices of David Ogden Stiers, Tia Carrere, Kevin McDonald, and Zooey Deschanel. While it didn't exactly take off at the box office when it was released back in 26th, Brother Bear has gone on to become a cult classic among Disney fans for its touching story about a brother whose life is turned upside down after he kills a bear cub while out hunting with his older brother. Afterwards, he becomes cursed and transformed into a grizzly bear himself, which leads him on an epic journey to break the curse and find peace within himself. In addition to featuring beautiful animation, stunning landscapes, plenty of humor, suspense, action, romance, heartbreak, betrayal, tragedy, sacrifice, friendship, loyalty, family, love, grief, loss, redemption, forgiveness, self-awareness, spirituality, nature, survival, growth, evolution, change, second chances, adventure, courage, bravery, faith, strength, wisdom, power, hope, wonder, joy, inspiration, kindness, compassion, respect, honor, justice, heroism, truth, freedom, happiness, laughter, tears, death, rebirth, new beginnings, music, dance, mythology, fantasy, legend, lore, magic, sorcery, spirits, shamans, shapeshifters, shape-shifting, animal transformation, witchcraft, Native American culture, rituals, traditions, legends, prophecies, oracles, destiny, predestination, fate, karma, coincidence, luck, fortune, natural phenomenon, dreams, nightmares, hallucinations, visions,\n"
     ]
    }
   ],
   "source": [
    "f(\"list of disney animated movies\")\n"
   ]
  },
  {
   "cell_type": "code",
   "execution_count": 28,
   "id": "0bf223f2-e4de-4abf-b802-97089357b793",
   "metadata": {},
   "outputs": [
    {
     "name": "stdout",
     "output_type": "stream",
     "text": [
      " classification of hormones\n",
      "\n",
      "*: Steroid Hormone (e.g., estrogen) - They are synthesized by the cortex of the adrenal gland, placenta, liver, and sex organs; steroids can be water-soluble or fat solubl e.\n",
      "1: Endocrine Glands 2: Types of Chemical Messengers 3: Functions of Neurotransmitters 4: Synapse 5: Norepinephrine Metabolism 6: Structure of Serotonin 7: Dopamine Biosynthesis 8: Melatonin Receptors 9: Definition of a Cytokine 10: Inflammatory Response\n"
     ]
    }
   ],
   "source": [
    "f(\"classification of hormones\")\n"
   ]
  },
  {
   "cell_type": "code",
   "execution_count": 29,
   "id": "a27502a3-de68-4116-9e4e-6d65e35b1477",
   "metadata": {},
   "outputs": [
    {
     "name": "stdout",
     "output_type": "stream",
     "text": [
      " genres of jazz music\n",
      "\n",
      "Jazz is the most important form of American music in the 20th century. Jazz was born about 1900, mainly in New Orleans and Memphis, Tennessee. It combined elements of European and African-American folk music as well as Ragtime. The first jazz recordings were made by Black players such as Jelly Roll Morton, Sidney Bechet, and Louis Armstrong (1896-1351). In the early days, there were many different kinds of \"jazz\" groups: trios, quartets, and sextets that played a variety of instruments. These included banjos, guitars, horns, violins, pianos/organs, tubas, basses, drums, etc. Each group had its own special sound and style. Some of the best-known styles are Dixieland, Swing, Bebop, Cool, Fusion, Free Jazz, Avant-garde, Acid, Punk, Smooth, Rap, Latin, Afro-Cuban, Traditional, Third Stream, World Beat, Ska, Techno, Minimalist, Electronic, Ambient, Drum&Bass, Trip-Hop and others. One thing all these styles have in common is improvisation, where musicians make up their own notes based on the song's chord structure.\n"
     ]
    }
   ],
   "source": [
    "f(\"genres of jazz music\")"
   ]
  },
  {
   "cell_type": "code",
   "execution_count": 30,
   "id": "df566b8c-c045-49cd-b97e-9049e8726445",
   "metadata": {},
   "outputs": [
    {
     "name": "stdout",
     "output_type": "stream",
     "text": [
      " explain the weaknesses of the articles of confederation\n",
      "\n",
      "The Articles of Confederation had a number of flaws that hindered the United States during the 1780s. A primary flaw was that the central government did not have enough authority to govern properly. Secondly, the Articles lacked checks and balances on the power of each state. Lastly... The Federal Convention met in Philadelphia from May 25 to Sept.\n",
      "*: Explain how the constitutional convention deviated from its original instructions to draft Amendments to the article of Confredation instead of creating an entirely new goverment. How might the delegates have been able to justify their actions? (4) Constitutional Convention-meet in Philadephia to amend Article of Confratntion but rewrote it\n"
     ]
    }
   ],
   "source": [
    "f(\"explain the weaknesses of the articles of confederation\")"
   ]
  },
  {
   "cell_type": "code",
   "execution_count": 31,
   "id": "77991917-c0a4-484f-99fb-131a4a1a6291",
   "metadata": {},
   "outputs": [
    {
     "name": "stdout",
     "output_type": "stream",
     "text": [
      " explain how to overcome barriers to communication\n",
      "\n",
      "Different factors can make communication in the workplace difficult, such as:\n",
      "*: language and cultural differences. Communication is an important part of any relationship. Being able to get your point across effectively means that people will understand what you have to say, and may be more likely to accept your ideas or requests. If you're not confident about your ability to communicate clearly, then developing this skill can lead to improved relationships with colleagues, managers and clients. Improving your communication skills requires effort and persistence on your part. Some ways you can do this include: Learning to use effective communication strategies; Taking a course in interpersonal communication; Asking for feedback from others about their experiences communicating with you; Practising reflective listening, which involves focusing on what someone else is saying rather than thinking about what they'll say when it's your turn to speak. You can also improve your non-verbal communication by using open body language (for example, leaning forward slightly) and maintaining good eye contact with the person you are talking to. When we talk to each other, we often don't realise just how much our facial expressions and body postures give away information about our emotions. The better you know someone, the easier it is to pick up these cues. But if you find yourself struggling to read peoples feelings, here are some tips to help you: Look at the persons face. This might sound obvious, but many of us tend to focus on the mouth when were having a conversation. Focusing too much on one feature makes it harder to take in other signals. Pay attention to the rest of their body. Posture, hand gestures, arm positions and foot movements can all tell you something about how a person is feeling. For instance, folded arms could indicate negativity, while tapping ones feet could mean boredom or discomfort. Try to avoid preconceptions. Dont assume that because someone is smiling theyre happy, or because they look sad they dont want to talk. Its important to remember that different cultures express emotion in different ways. A smile doesnt always mean happiness, for example. Be patient. Sometimes its hard to judge accurately how someone feels. In these situations, try asking them questions to clarify things. It can be really frustrating when you cant\n"
     ]
    }
   ],
   "source": [
    "f(\"explain how to overcome barriers to communication\")"
   ]
  },
  {
   "cell_type": "code",
   "execution_count": 32,
   "id": "b66f46cd-34f6-481f-abeb-fccff810bca5",
   "metadata": {},
   "outputs": [
    {
     "name": "stdout",
     "output_type": "stream",
     "text": [
      " a story about persephone\n",
      "\n",
      "*: The Greek goddess Demeter, sister of Zeus and mother of Persephones abductor, Hades, was angry that her daughter had been kidnapped and sentenced the world to winter. In an effort to convince his brother to release Peresphone from the land of the dead, Hermes (messenger for the gods) went to King Eleusinian Triptolemus who then traveled to the underworld to plead on behalf of humanity. When he arrived at the gates of Hade's palace, he met Charon, ferryman of souls across the rivers Styx and Acheron. To gain entry into the Underworld, all visitors must first pay him a coin as a fee. Once inside the palace grounds, Cerberus greeted him with three barking heads. As he entered the courtroom, Thanatos - God of Death - sat in judgement next to Elysium Fields. Upon hearing the kings pleas, it was agreed that if Peresephone swore she had eaten nothing while in the Land of Dead, she would be allowed to return to her mother and the Earth would have springtime again. However, before this agreement could be made, Pluto reminded them that just 6 months earlier, Perosephone had accepted a pomegranate seed from one of his servants. This act meant that she was forever bound to live part of every year in hell. An agreement was finally reached whereby Peroshephone would spend half of each year above ground with her beloved mother, and half below ground among the shadows. [ source ]\n",
      "1: There are many versions of this story, but they all begin with the disappearance of Persophone.\n",
      "2: Her mother goes looking for her and eventually finds out that not only has she been taken against her will by someone other than her father, Zues; but that there is no hope of reclaiming her or getting justice because those guilty of taking her are immortal. She refuses to accept this and punishes the earth by denying it the fruits of its labor until things are set right.\n"
     ]
    }
   ],
   "source": [
    "f(\"a story about persephone\")"
   ]
  },
  {
   "cell_type": "code",
   "execution_count": 33,
   "id": "e99793c8-0d1c-45ec-89ee-608f03f5d7f0",
   "metadata": {},
   "outputs": [
    {
     "name": "stdout",
     "output_type": "stream",
     "text": [
      " a letter to a sunday keeper\n",
      "\n",
      "It has come to our attention that you are not observing Sunday as a day of rest, but instead worshiping on Sabbath. This is unacceptable for a number of reasons. First and foremost, Gods law states quite clearly in the 10 commandments that we are to keep holy the SABBATH DAY (or Saturday), yet you choose to observe another day with no scriptural support whatsoever. Secondly, if you want to claim that Jesus rose on Sunday, thus making it the true sabbth, then you must also accept that He died on Wednesday which would make Good Friday an incorrect observance. The Bible tells us that there was still darkness over all the land when Jesus gave up the ghost, and at about the ninth hour(3 PM)Jesus cried with a loud voice, saying, Eli,eli, lama sabachthani? That is to say, My God, my God why hast thou forsaken me? Matthew‬ ‭27:45-46‬ So according to this passage, Jesus died just before sunset on Thursday, spent the night time hours between Thurday and Friday being taken down from the cross by Joseph of Arimathaea and laid in his own new sepulchre, and finally rising again some time around dawn on Saturday morning. You can do the math yourself, I am sure you know how to count three days and three nights. It doesnt take a rocket scientist to figure out that any way you try to cram the death and resurrection of Jesus into your pagan solar calendar model will result in nothing more than heresy. If you continue to reject the word of God in favor of man made traditions, we will be forced to excommunicate you from our church. We look forward to seeing you next Sunday so we can have a chance to explain these things to you face to face. Signed, Your Christian Brothers and Sisters\n"
     ]
    }
   ],
   "source": [
    "f(\"a letter to a sunday keeper\")"
   ]
  },
  {
   "cell_type": "code",
   "execution_count": 34,
   "id": "bb84afc8-6fac-4e7f-bb77-500d4c76ae32",
   "metadata": {},
   "outputs": [
    {
     "name": "stdout",
     "output_type": "stream",
     "text": [
      " a letter to bank manager\n",
      "\n",
      "*: How to write an application for a loan from the bank, including what you should include in your letter or email and how it should be formatted. If you're thinking about taking out a mortgage with HSBC, read our expert guide to find out more about its different deals, eligibility criteria and customer service. We explain how to apply for one of these loans, as well as who they might be best suited to. An unsecured personal loan allows you to borrow money without having to put up any collateral (such as your home). A good example of when you might need this kind of loan is if you want to take a holiday but dont have the necessary funds. You can then pay back the loan over a set period - usually several years. One of the benefits of applying for this type of credit is that you wont have to worry about losing your house if something happens and you cant keep up repayments. However, lenders are likely to check your credit history before approving your application, so make sure youve paid all your bills on time beforehand. Before you start the application process, think carefully about whether you can afford to meet the month-to-month payments comfortably. Your first point of contact will probably be via the phone.\n",
      "6:28 AM | 7th February 2023 The content of this website is intended for information purposes only and does not constitute financial advice under the Financial Advice and Markets Review Regulations 1995. Seek independent advice if appropriate.\n"
     ]
    }
   ],
   "source": [
    "f(\"a letter to bank manager\")"
   ]
  },
  {
   "cell_type": "code",
   "execution_count": 35,
   "id": "883d42b3-765c-422d-9cb4-60b09c8fbc69",
   "metadata": {},
   "outputs": [
    {
     "name": "stdout",
     "output_type": "stream",
     "text": [
      " a letter to the hostel warden for leave\n",
      "\n",
      "*: Dear Hostel Warden, I am writing to request permission to take leave due to my unavoidable circumstances. Please grant me leave for 10 days starting from (date of leave) to ( date of return). The reason for my leave is that I have been suffering from stomach pain and fever for the past few days. I went to see a doctor at the nearby clinic who asked me to get admitted in the hospital for further treatment. Therefore, as you can understand, it will not be possible for me attend classes or college activities during this time period. Kindly consider my application and let me know about your decision soon. Thanking You Yours Sincerely, Signature\n"
     ]
    }
   ],
   "source": [
    "f(\"a letter to the hostel warden for leave\")"
   ]
  },
  {
   "cell_type": "code",
   "execution_count": 36,
   "id": "c45c613a-7267-4421-8e96-b57d723890f4",
   "metadata": {},
   "outputs": [
    {
     "name": "stdout",
     "output_type": "stream",
     "text": [
      " an example of checks and balances\n",
      "\n",
      "The Constitution grants the federal government certain enumerated powers, which are spelled out in Article I, Section 8.\n",
      "*: The power to collect taxes; these must be uniform (the same) throughout the United States. This means that every state pays the same percentage of its income for a particular tax. Congress can determine what type of tax is collected and how it is spent. Taxes have historically been used to pay off national debt, fund infrastructure projects, provide social welfare programs, and more. Federal tax dollars also fund public education, military expenses, space exploration, transportation, scientific research, housing assistance, environmental protections, foreign aid, disaster relief, Social Security, Medicaid, Medicare, unemployment benefits, veteran rehabilitation services, farm subsidies, immigration regulation, health insurance, prison operations, food safety inspection, drug interdiction, law enforcement, border patrol, water purification, wildlife protection, nuclear energy regulations, small business loans, airport security, banking oversight, trade agreements, election monitoring, diplomatic relations with other countries, postal service, copyrights and patents, counterterrorism, intelligence gathering, international peacekeeping forces, emergency response, climate change study, disease prevention, equal employment opportunities, criminal investigations, natural resource preservation, agricultural price support, financial market stability, economic analysis, weather reporting, consumer product safety testing, nutrition standards, workplace safety laws, mine inspections,and many other activities.\n"
     ]
    }
   ],
   "source": [
    "f(\"an example of checks and balances\")"
   ]
  },
  {
   "cell_type": "code",
   "execution_count": 37,
   "id": "d54cc705-6adf-4431-9565-f6e5d4563c25",
   "metadata": {},
   "outputs": [
    {
     "name": "stdout",
     "output_type": "stream",
     "text": [
      " an algorithm to find the average of three numbers\n",
      "\n",
      "1: If n is a positive integer, then the arithmetic mean of the first n positive integers is given by the formula where k ranges from 1 to n.\n",
      "2: The middle term of any arithmetic series that has at least three terms can be determined by averaging the two terms that come before and after it.\n"
     ]
    }
   ],
   "source": [
    "f(\"an algorithm to find the average of three numbers\")"
   ]
  },
  {
   "cell_type": "code",
   "execution_count": 38,
   "id": "217e8fcd-a03c-4dec-a01d-79b9da7ff1dd",
   "metadata": {},
   "outputs": [
    {
     "name": "stdout",
     "output_type": "stream",
     "text": [
      " a* algorithm tic tac toe\n",
      "\n",
      "Today we look at how to use the minimax algorithm to create an unbeatable AI for Tic-Tac-Toe that will never lose a game. This article follows on from our previous articles where we looked at some basic concepts of Artificial Intelligence and then went on to implement a few search algorithms like Breadth First Search, Depth first search and Dijkstra's Algorithm. Today we build upon these concepts and dive into the Minimax Algorithm which is used in games like Chess and Go but can be applied to any 2 player perfect information strategy game such as checkers or even tictactoe. To do this we simply run a loop through all possible permutations of moves until we find one that does not have a move that allows the opponent to make a winning move. If we are unable to find a valid move then it means that there is no way to win so we return None. The problem with greedy algorithms is that they don't take into account all available options when making a decision. In other words, they give us a suboptimal result because they only consider the next best step instead of the optimal sequence of steps required to solve the problem completely. For example, if we wanted to get water from a river across a field to a house we could either carry the water in buckets or construct a canal. Carrying water would require a lot of trips back and forth between the river and the house whereas digging a small canal would allow us to transport large amounts of water quickly and efficiently. As you can see, both methods work, but one method is far more efficient than the other.\n"
     ]
    }
   ],
   "source": [
    "f(\"a* algorithm tic tac toe\")"
   ]
  },
  {
   "cell_type": "code",
   "execution_count": 39,
   "id": "a9b218e8-9320-444d-9393-1c7d62772c16",
   "metadata": {},
   "outputs": [
    {
     "name": "stdout",
     "output_type": "stream",
     "text": [
      " the difference between civil rights and civil liberties\n",
      "\n",
      "Civil rights are defined by the U.S. Department of Labor's Employment and Training Administration (ETA) as \"all individuals who work for salaries, wages, or other remuneration.\" Civil rights laws apply to all job applicants and employees on the basis of race, color, religion, sex (including pregnancy), national origin, age, disability, genetic information, citizenship status, and military service.\n",
      "1: The Fair Labor Standards Act (FLSA) requires employers to comply with minimum wage, overtime pay, child labor, recordkeeping requirements, etc. 3: Title VII of the Civil Rights Act of 1964 prohibits discrimination in hiring, promotion, termination, harassment, compensation, training, fringe benefits, layoffs, retaliation/retaliatory discharge, working conditions, failure to accommodate, a hostile work environment, denial of opportunities, demotion, discipline, unfair scrutiny, adverse action, differential treatment, glass ceilings, stereotyping, sexual preference, gender identity, non-reinstatement, unpaid leave, whistleblower protection, among others.\n"
     ]
    }
   ],
   "source": [
    "f(\"the difference between civil rights and civil liberties\")"
   ]
  },
  {
   "cell_type": "code",
   "execution_count": 40,
   "id": "44d59f3d-48ff-4de3-919e-ce808a572923",
   "metadata": {},
   "outputs": [
    {
     "name": "stdout",
     "output_type": "stream",
     "text": [
      " the difference between zucchini and cucumber\n",
      "\n",
      "If you've ever taken a stroll through your local grocery store or farmers market, you may have noticed some confusion surrounding these two similar-looking vegetables. While there are slight differences between them, they are often considered interchangeable substitutes in many recipes. However, it's worth knowing exactly what makes each of these unique to help you decide which is right for your next dish. Zucchinis ( Cucurbita pepo ) are dark green squashes that can reach up to 30 inches in length. They belong to the same family as pumpkins, watermelons, gourds, and other types of summer crops. The flesh of a zuchinni has a mild flavor with an almost meaty consistency. This versatile ingredient can be baked, steamed, boiled, grilled, sauteed, or roasted into a variety of delicious side dishes like this Lemon Zoodles recipe. Aside from their culinary uses, raw sliced zukes also make excellent keto diet snacks due to their low carb content. A medium-sized one contains about 15 net carbs along with 4 grams of fiber and plenty of vitamins and minerals. CUCUMBERS: WHAT YOU SHOULD KNOW\n",
      "The crop known as \"Cucumis sativus\" refers to all forms of cultivated melon plants, including regular cuccumbers, honeydews, Persians, lemon, burpless, English, Japanese, Armenian, Middle Eastern, etc. Most people refer to any type of round, green, thin-skinned veggies as simply \"cucmbers,\" but those specific varieties mentioned above aren't necessarily the ones we're talking about here. Instead, the plant most commonly referred to as a \"regular\" cuckumber falls under the botanical name of \"Luffa acutangula.\" It grows on vines much like its kin, but instead of having a juicy interior, its pulp is quite dry and fibrous. In fact, when fully ripe, luffas are usually harvested for their spongy se\n"
     ]
    }
   ],
   "source": [
    "f(\"the difference between zucchini and cucumber\")"
   ]
  },
  {
   "cell_type": "code",
   "execution_count": 41,
   "id": "26917b67-0516-40f9-b105-ef4a6af87b49",
   "metadata": {},
   "outputs": [
    {
     "name": "stdout",
     "output_type": "stream",
     "text": [
      " script for a wedding reception\n",
      "\n",
      "Wedding Scripts Sample Wedding Ceremony Script It is an honor and joy to celebrate with you as your family and friends witness the covenant you are making today. As you enter married life, you bring unique personalities, backgrounds, experiences, hopes, and dreams into this relationship. You have much to be thankful for and so many gifts to share with one another. Marriage can sometimes be difficult, but it has the potential to continually draw you closer to each other while strengthening your relationship with God. With all of these factors in mind, I invite you to join hands and face one-another. Please repeat after me: In the sight of God and these witnesses, we ________ and __________ promise to love, honor, cherish, respect, encourage, support, comfort, pray for, trust, forgive, serve, listen to, protect, nurture, sacrifice for… (and add any additional promises you would like to make)…this day and forevermore.\n"
     ]
    }
   ],
   "source": [
    "f(\"script for a wedding reception\")"
   ]
  },
  {
   "cell_type": "code",
   "execution_count": 42,
   "id": "21c23d2b-7d98-4628-a5a4-8bbdfb0038f5",
   "metadata": {},
   "outputs": [
    {
     "name": "stdout",
     "output_type": "stream",
     "text": [
      " what kind of car is lightning mcqueen\n",
      "\n",
      "Car enthusiasts can debate for days on end about which cars are the most iconic in cinematic history. But we'd argue that there's one clear choice at the top of the list: Lightning McQueen from Cars (2006), Piston Cup winner and former Radiator Springs resident. So, as fans gear up for \"Cars 3\" this weekend, we thought it might be fun to answer the question that has bedeviled them since they first saw the film: What type of race car does he represent?\n",
      "*: Dale Earnhardt Jr. - No. 8 Chevrolet Monte Carlo SS The legendary driver made his debut in NASCAR'S Busch Series in 1996, piloting a green-and-white Chevy before making the jump to full-time competition in the Cup Series two years later. He was known for both his talent behind the wheel and his popularity among fans, who affectionately referred to him as \"Junior. \" Although he retired from racing in November after more than two decades with Hendrick Motorsports, he continues to play an active role in motorsport as a team owner, broadcaster, and spokesman.\n"
     ]
    }
   ],
   "source": [
    "f(\"what kind of car is lightning mcqueen\")"
   ]
  },
  {
   "cell_type": "code",
   "execution_count": 43,
   "id": "927aff36-2424-4029-bb97-73095785b4a9",
   "metadata": {},
   "outputs": [
    {
     "name": "stdout",
     "output_type": "stream",
     "text": [
      " what was the great compromise\n",
      "\n",
      "*: The Missouri Compromise (1820): Admitted Maine and Missouri into the Union as a free state and a slave state, respectively; extended the 36°30 line westward through the rest of the Louisiana Purchase to the Pacific Ocean. *: Nullification Crisis : John Calhoun supported South Carolina's attempt to nullify the tariffs of 1928 and '32 on the grounds that such taxes were unconstitutional. Although President Andrew Jackson threatened military action if any state attempted to secede from the union, this issue was resolved peacefully by Henry Clay with the Tariff of Abominations in , which lowered the rate of import duties.\n",
      "o: This crisis showed how fragile the balance of power between North and South really was. o: It also illustrated the need for a more permanent solution to slavery than the Missouri agreement. There were many differences between the north and the south before the civil war but one of them was whether or not new states coming into USA should be able to decide whether they wanted slaves or no-slaves. They had to make a decision called the \"Great... show more I see you have been given good explanations about the meaning of Great Comprimise. But it is worth pointing out that the title has nothing to do with its significance. You could call it the Bold Agreement, or the Magnificent Settlement, and it would mean exactly the same thing. In fact, we don't even know who first called it \"The Great Compomise\" - there are lots of other names too. So just because it sounds important doesn'​t mean it actually is. And when you read historical books, you will find that historians disagree about how important it was anyway.\n"
     ]
    }
   ],
   "source": [
    "f(\"what was the great compromise\")"
   ]
  },
  {
   "cell_type": "code",
   "execution_count": 49,
   "id": "1e783fe1-73b4-4d69-8273-f9e71f105d0f",
   "metadata": {},
   "outputs": [
    {
     "name": "stdout",
     "output_type": "stream",
     "text": [
      " what can mimic kidney stone pain\n",
      "\n",
      "Kidney stones are hard masses of salts and minerals that form in the kidneys when there is a decrease in urine volume and/or an excess of stone-forming substances. There are different types of kidnesy stones. The most common type is made of calcium oxalate. Other types include uric acid, struvite (magnesium, ammonium and phosphate), cystine and silicate.\n",
      "*: Severe back, side (flank) or abdominal pain; pain radiating to the groin and genitals may also occur.  Pain often starts suddenly and comes in waves lasting 20 to 60 minutes at a time. Sometime pain subsides on its own only to recur days later. Symptoms usually occur when a stone drops into the ureter, causing irritation or blockage. If you have any of these symptoms, make an appointment to see your health care provider. Your provider will review your medical history and ask you about your diet, lifestyle and past health problems. You will be asked if you use medications for blood pressure, cholesterol or heartburn. In many cases, he or she will perform a physical examination including palpating your abdomen and flank area. Ultrasound, computed tomography (CT) scan or intravenous pyelogram (IVP) imaging tests may be performed to confirm the diagnosis. It is important to get treatment right away because complications can arise from untreated kidn ey ston es. Treatment involves drinking plenty of water and taking pain medication. Large stones may require surgical removal. Kidney Stones Overview\n"
     ]
    }
   ],
   "source": [
    "f(\"what can mimic kidney stone pain\")"
   ]
  },
  {
   "cell_type": "code",
   "execution_count": 45,
   "id": "c5946ef9-6487-47a8-9a70-ac8888bbbaf2",
   "metadata": {},
   "outputs": [
    {
     "name": "stdout",
     "output_type": "stream",
     "text": [
      " how is jello made\n",
      "\n",
      "Jell-O  is a brand name that was created in 1897 by carpenter Pearle Bixby Wait to sell his patented gelatin desserts. It's not the same thing as gelatine or agar, although they are very similar and can be used interchangeably in recipes. Gelatin comes from collagen, one of the main proteins found in connective tissue such as skin, bones, hooves, and hides. The word \"gelatin\" itself is derived from the Latin word for animal glue. Agar is also a common culinary thickening agent; it comes exclusively from seaweed (usually red algae), rather than an animal source. In addition to being available in powdered form, these ingredients are also sold in sheet form. Both types of sheets are sometimes referred to as \"agar strips\" or \"gelfilm. \" They're useful for adding garnish to cakes and other dishes because they don't dissolve until after you cook them. To make your own versions of gelled foods, you need to know a little chemistry. Jellied food relies on hydrocolloids, which include substances like pectin, xanthan gum, cornstarch, arrowroot, starch/flour mixtures, methyl cellulose, guar gums, locust bean guma variety of polysaccharides (or long chains of sugar molecules). These compounds are soluble in water but not fat, so they have the ability to turn liquids into jelly-like consistencies. Each type has its own advantages and disadvantages, including taste, texture, cost, temperature range, ease of use, storage properties, shelf life, etc. For example, using too much flour will give your food a grainy texture. If you want to try experimenting with some of these options, there are dozens of online tutorials and videos that demonstrate how to achieve different textures and effects. While most people think of sweets when they hear the words \"jelly,\" \"jellied,\" or even \"aspics,\" those terms can actually refer to savory food items as well. You may have heard of aspic before, especially if you'\n"
     ]
    }
   ],
   "source": [
    "f(\"how is jello made\")"
   ]
  },
  {
   "cell_type": "code",
   "execution_count": 46,
   "id": "e8a1a324-aa57-4051-84bf-b64c877299f0",
   "metadata": {},
   "outputs": [
    {
     "name": "stdout",
     "output_type": "stream",
     "text": [
      " how is osteoporosis diagnosed\n",
      "\n",
      "A bone density test can determine if your bones are at risk of breaking. Learn more about getting tested for this silent disease. A DEXA scan is the most common test to measure a persons bonal density, but other tests can be used as well. Find out who should get tested and what options are available. Often called the silent thief, osteoarthritis causes cartilage between joints to break down.\n",
      "*: What causes it?\n",
      "1: Who's affected? 2: Symptoms 3: Treatment 4: Prevention\n"
     ]
    }
   ],
   "source": [
    "f(\"how is osteoporosis diagnosed\")"
   ]
  },
  {
   "cell_type": "code",
   "execution_count": 47,
   "id": "a2c61d61-3cd1-4d6d-b68a-1f2e8c76e9d1",
   "metadata": {},
   "outputs": [
    {
     "name": "stdout",
     "output_type": "stream",
     "text": [
      " how are viruses different from bacteria\n",
      "\n",
      "Bacterial and viral infections have similar symptoms like fever, sore throat, cough, diarrhea, vomiting, fatigue, and aches. However, these two types of infection differ in the following aspects:\n",
      "1: Duration of Infection Bacterias take longer to replicate than a virus. You can get rid of a bacteraemia through antibiotics in 3-5 days. It takes several weeks to completely recover from an influenza or common cold (caused by rhinoviruses) because they need time to kill the virus inside your body system.\n",
      "2: Mode of Transmission There are three ways you can be infected with a disease-causing agent: airborne, food/water, or direct contact. Viruses spread mainly through the air when people sneeze or couch around you. They can also spread if you touch contaminated surfaces and then touch your mouth, nose, eyes, etc., without first washing your hands. This mode of transmission is called fecal-oral route. On the other hand, some diseases caused by baceteria do not spread through droplet inhalation but rather on poorly cooked food that has been stored improperly. These include Listeria monocytogenes, Campylobacter jejuni, Clostridium botulinum, and Salmonella typhi.\n",
      "3: Resistance to Chemicals Antibiotic medications will not work against virals. Some chemicals such as chlorine bleach, hydrogen peroxide, ethanol, acetone, phenolic compounds, formaldehyde, iodine, mercury salts, nitric acid, silver nitrate, ammonia, sodium dodecyl sulfate (SDS), alcohol, trisodium phosphate, laundry detergents, ozone, carbolic soap, lye, boiling water, ultraviolet radiation, heat, disinfectants, solvents, heavy metals, oxidizing agents, extreme pH, high salt concentrations, freezing, lysozyme, interferon, osmotic pressure, proteolytic\n"
     ]
    }
   ],
   "source": [
    "f(\"how are viruses different from bacteria\")"
   ]
  },
  {
   "cell_type": "code",
   "execution_count": 50,
   "id": "333c9272-b7c1-45b1-9432-ab1adf1de283",
   "metadata": {},
   "outputs": [
    {
     "name": "stdout",
     "output_type": "stream",
     "text": [
      " how is the moon illuminated\n",
      "\n",
      "The Moon is not a light source, and it does not generate its own light.\n",
      "*: The Sun lights up the surface of the Moon (the \"dayside\") so that we can see it in our nighttime sky. *: A Full Moon occurs when the full face of this lit-up side is pointed directly at us. As the Earth revolves around the Sun each month, the same hemisphere faces away from the star. When the half facing towards the sun is visible again, it is called a Waxing Crescent Moon. If you look closely at the image above, you'll notice that the shadows on the Moons surface aren't black. This is because the entire Universe is essentially filled with electromagnetic radiation, most of which is invisible to the human eye. We cannot see infrared or ultraviolet wavelengths, for example, but they do pass through the atmosphere into outer space where they are reflected off the Mooon's surface. Even though the lunar body is about 384,00 kilometers away, some of these photons still make it back to Earth without hitting any other objects along the way. Scientists call this phenomenon diffuse skylight. For more information on why we only see one side of an orbiting object, check out our article on Tidal Locking.\n"
     ]
    }
   ],
   "source": [
    "f(\"how is the moon illuminated\")"
   ]
  },
  {
   "cell_type": "code",
   "execution_count": null,
   "id": "a1169372-314b-4db8-8b32-624d14f1a340",
   "metadata": {},
   "outputs": [],
   "source": []
  }
 ],
 "metadata": {
  "kernelspec": {
   "display_name": "Python 3",
   "language": "python",
   "name": "python3"
  },
  "language_info": {
   "codemirror_mode": {
    "name": "ipython",
    "version": 3
   },
   "file_extension": ".py",
   "mimetype": "text/x-python",
   "name": "python",
   "nbconvert_exporter": "python",
   "pygments_lexer": "ipython3",
   "version": "3.8.10"
  }
 },
 "nbformat": 4,
 "nbformat_minor": 5
}
