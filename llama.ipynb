{
 "cells": [
  {
   "cell_type": "markdown",
   "id": "9fe4276e-579e-4eac-a344-4197e84f6236",
   "metadata": {},
   "source": [
    "# Train a 30B LLaMa model\n",
    "We first need to install some pull requests, rather than the regular transformers libraries. In general this is a terrible idea, but I suppose we are on the bleeding edge here, so we have to take some risks.  The two PRs are from Jason Phang."
   ]
  },
  {
   "cell_type": "code",
   "execution_count": 1,
   "id": "751478f5-0317-4da7-9cd1-3fa76abebce3",
   "metadata": {},
   "outputs": [
    {
     "name": "stdout",
     "output_type": "stream",
     "text": [
      "\u001b[33m  WARNING: Did not find branch or tag 'refs/pull/160/head', assuming revision or ref.\u001b[0m\u001b[33m\n",
      "\u001b[0m\n",
      "\u001b[1m[\u001b[0m\u001b[34;49mnotice\u001b[0m\u001b[1;39;49m]\u001b[0m\u001b[39;49m A new release of pip is available: \u001b[0m\u001b[31;49m23.0.1\u001b[0m\u001b[39;49m -> \u001b[0m\u001b[32;49m23.1.2\u001b[0m\n",
      "\u001b[1m[\u001b[0m\u001b[34;49mnotice\u001b[0m\u001b[1;39;49m]\u001b[0m\u001b[39;49m To update, run: \u001b[0m\u001b[32;49mpython3 -m pip install --upgrade pip\u001b[0m\n",
      "\u001b[33m  WARNING: Did not find branch or tag 'refs/pull/21955/head', assuming revision or ref.\u001b[0m\u001b[33m\n",
      "\u001b[0m\n",
      "\u001b[1m[\u001b[0m\u001b[34;49mnotice\u001b[0m\u001b[1;39;49m]\u001b[0m\u001b[39;49m A new release of pip is available: \u001b[0m\u001b[31;49m23.0.1\u001b[0m\u001b[39;49m -> \u001b[0m\u001b[32;49m23.1.2\u001b[0m\n",
      "\u001b[1m[\u001b[0m\u001b[34;49mnotice\u001b[0m\u001b[1;39;49m]\u001b[0m\u001b[39;49m To update, run: \u001b[0m\u001b[32;49mpython3 -m pip install --upgrade pip\u001b[0m\n",
      "\n",
      "\u001b[1m[\u001b[0m\u001b[34;49mnotice\u001b[0m\u001b[1;39;49m]\u001b[0m\u001b[39;49m A new release of pip is available: \u001b[0m\u001b[31;49m23.0.1\u001b[0m\u001b[39;49m -> \u001b[0m\u001b[32;49m23.1.2\u001b[0m\n",
      "\u001b[1m[\u001b[0m\u001b[34;49mnotice\u001b[0m\u001b[1;39;49m]\u001b[0m\u001b[39;49m To update, run: \u001b[0m\u001b[32;49mpython3 -m pip install --upgrade pip\u001b[0m\n",
      "\n",
      "\u001b[1m[\u001b[0m\u001b[34;49mnotice\u001b[0m\u001b[1;39;49m]\u001b[0m\u001b[39;49m A new release of pip is available: \u001b[0m\u001b[31;49m23.0.1\u001b[0m\u001b[39;49m -> \u001b[0m\u001b[32;49m23.1.2\u001b[0m\n",
      "\u001b[1m[\u001b[0m\u001b[34;49mnotice\u001b[0m\u001b[1;39;49m]\u001b[0m\u001b[39;49m To update, run: \u001b[0m\u001b[32;49mpython3 -m pip install --upgrade pip\u001b[0m\n"
     ]
    }
   ],
   "source": [
    "!pip install git+https://github.com/huggingface/peft.git@refs/pull/160/head --quiet\n",
    "!pip install git+https://github.com/huggingface/transformers.git@refs/pull/21955/head --quiet\n",
    "!pip install sentencepiece --quiet\n",
    "!pip install numexpr==2.7.3 --quiet"
   ]
  },
  {
   "cell_type": "code",
   "execution_count": 1,
   "id": "3e2a412e-5625-46a9-a031-333b5cb39910",
   "metadata": {},
   "outputs": [
    {
     "name": "stderr",
     "output_type": "stream",
     "text": [
      "The tokenizer class you load from this checkpoint is not the same type as the class this function is called from. It may result in unexpected tokenization. \n",
      "The tokenizer class you load from this checkpoint is 'LLaMATokenizer'. \n",
      "The class this function is called from is 'LlamaTokenizer'.\n"
     ]
    },
    {
     "name": "stdout",
     "output_type": "stream",
     "text": [
      "reading\n",
      "tokenizing\n"
     ]
    },
    {
     "data": {
      "application/vnd.jupyter.widget-view+json": {
       "model_id": "d99cdd2c1c774b18934f251db5ede0f0",
       "version_major": 2,
       "version_minor": 0
      },
      "text/plain": [
       "  0%|          | 0/5000 [00:00<?, ?it/s]"
      ]
     },
     "metadata": {},
     "output_type": "display_data"
    },
    {
     "data": {
      "application/vnd.jupyter.widget-view+json": {
       "model_id": "900eadfe40e749c9a7a13c158a210b33",
       "version_major": 2,
       "version_minor": 0
      },
      "text/plain": [
       "Saving the dataset (0/1 shards):   0%|          | 0/1501 [00:00<?, ? examples/s]"
      ]
     },
     "metadata": {},
     "output_type": "display_data"
    },
    {
     "name": "stdout",
     "output_type": "stream",
     "text": [
      "Generated 1501 samples.\n"
     ]
    }
   ],
   "source": [
    "!cat /home/ubuntu/five-dollar-test/how.json /home/ubuntu/five-dollar-test/what.json > /home/ubuntu/five-dollar-test/train.json \n",
    "import transformers \n",
    "import json\n",
    "import numpy as np\n",
    "import random\n",
    "import tqdm.auto as tqdm\n",
    "import datasets\n",
    "\n",
    "def proc():\n",
    "    save_path = \"/home/ubuntu/llama_save-30\"\n",
    "    tokenizer_path = \"decapoda-research/llama-30b-hf\"\n",
    "    data_path = \"/home/ubuntu/five-dollar-test/train.json\"\n",
    "    max_seq_length = 448 # 512 does not fit, alas\n",
    "    \n",
    "    tokenizer = transformers.LlamaTokenizer.from_pretrained(tokenizer_path)\n",
    "    tokenizer.add_special_tokens({'pad_token': '[PAD]'})\n",
    "\n",
    "    all_tokenized = []\n",
    "    print(\"reading\")\n",
    "    with open(data_path, \"r\") as f:\n",
    "        lines = list(map(json.loads, f.readlines()))\n",
    "    random.shuffle(lines)\n",
    "    print(\"tokenizing\")\n",
    "    for elem in tqdm.tqdm(lines[0:5000]):\n",
    "        try:\n",
    "            all_tokenized.append( tokenizer.encode( (elem[\"input\"] + \"\\n\\n\" +  elem[\"output\"])[:512],\n",
    "                                                       #truncation=True,max_length= max_seq_length-2, padding='max_length' )\n",
    "                                                  ))\n",
    "            #if  len(all_tokenized[-1]) != max_seq_length -2:\n",
    "            #    print(len(all_tokenized[-1]), \" should be \", max_seq_length-2 )\n",
    "        except:\n",
    "            print(\"bad line\", elem)\n",
    "            break\n",
    "            \n",
    "    all_tokens = [tokenizer.bos_token_id] + [\n",
    "        tok\n",
    "        for row in all_tokenized\n",
    "        for tok in row + [tokenizer.eos_token_id, tokenizer.bos_token_id]\n",
    "    ] + [tokenizer.eos_token_id]\n",
    "\n",
    "    truncated_tokens = all_tokens[:(len(all_tokens) //  max_seq_length) *  max_seq_length]\n",
    "    arr = np.array(truncated_tokens).reshape(-1,max_seq_length)\n",
    "    ds = datasets.Dataset.from_dict({\"input_ids\": arr})\n",
    "    #arr = np.array(all_tokenized) \n",
    "    #ds = datasets.Dataset.from_dict({\"input_ids\": arr})\n",
    "    ds.save_to_disk(save_path)\n",
    "    print(f\"Generated {arr.shape[0]} samples.\")\n",
    "    \n",
    "proc()\n"
   ]
  },
  {
   "cell_type": "code",
   "execution_count": 2,
   "id": "b85e9034-3456-4398-993d-52fb252cc0b8",
   "metadata": {},
   "outputs": [],
   "source": [
    "import os\n",
    "import math\n",
    "#from dataclasses import dataclass, field\n",
    "import tqdm.auto as tqdm\n",
    "#from typing import Optional\n",
    "\n",
    "import torch\n",
    "import torch.nn as nn\n",
    "import torch.nn.functional as F\n",
    "#from torch.utils.data import Dataset\n",
    "\n",
    "import datasets\n",
    "import transformers\n",
    "from transformers import (\n",
    "    Trainer,\n",
    "    TrainingArguments,\n",
    ")\n",
    "from peft import (\n",
    "    get_peft_model,\n",
    "    LoraConfig,\n",
    "    PrefixTuningConfig,\n",
    "    PromptEncoderConfig,\n",
    "    PromptTuningConfig,\n",
    "    TaskType,\n",
    ")\n",
    "\n",
    "def get_peft_config(lora_rank):\n",
    "       return LoraConfig(\n",
    "            task_type=TaskType.CAUSAL_LM, \n",
    "            inference_mode=False,\n",
    "            r=lora_rank,\n",
    "            lora_alpha=32, \n",
    "            lora_dropout=0.1,  # we use 10% dropout instead of 5%, because, why not?\n",
    "       )\n",
    "\n",
    "class CastOutputToFloat(nn.Sequential):\n",
    "    def forward(self, x): return super().forward(x).to(torch.float32)\n",
    "\n",
    "class ModifiedTrainer(Trainer):\n",
    "\n",
    "    def compute_loss(self, model, inputs, return_outputs=False):\n",
    "        model_out = model(\n",
    "            input_ids=inputs[\"input_ids\"],\n",
    "            attention_mask=torch.ones_like(inputs[\"input_ids\"]),\n",
    "            labels=inputs[\"input_ids\"],  # HF model does the slicing for us\n",
    "        )\n",
    "        if return_outputs:\n",
    "            return model_out.loss, model_out\n",
    "        else:\n",
    "            return model_out.loss\n",
    "\n",
    "def data_collator(features: list) -> dict:\n",
    "    return {\n",
    "        \"input_ids\": torch.stack([\n",
    "            torch.LongTensor(f[\"input_ids\"])\n",
    "            for f in features\n",
    "        ])\n",
    "    }\n",
    "\n",
    "\n",
    "def save_tunable_parameters(model, path):\n",
    "    saved_params = {\n",
    "        k: v.to(\"cpu\")\n",
    "        for k, v in model.named_parameters()\n",
    "        if v.requires_grad\n",
    "    }\n",
    "    torch.save(saved_params, path)\n",
    "\n",
    "    \n",
    "def train_llama():\n",
    "    model_path=\"decapoda-research/llama-30b-hf\"\n",
    "    dataset_path=\"/home/ubuntu/llama_save-30/\"\n",
    "    lora_rank = 16\n",
    "  \n",
    "    training_args = TrainingArguments(per_device_train_batch_size = 1,\n",
    "                                        gradient_accumulation_steps = 1,\n",
    "                                        max_steps = 2000,\n",
    "                                        learning_rate = 2e-4,\n",
    "                                        fp16 = True,\n",
    "                                        logging_steps = 100,\n",
    "                                        output_dir = \"/home/ubuntu/\",\n",
    "                                        optim=\"adamw_torch\",\n",
    "                                        )\n",
    "\n",
    "    print(\"Setup Data\")\n",
    "    dataset = datasets.load_from_disk(dataset_path)\n",
    "\n",
    "    print(\"Setup Model\")\n",
    "    model = transformers.LlamaForCausalLM.from_pretrained(\n",
    "        model_path,\n",
    "        torch_dtype=torch.float16 ,\n",
    "        #load_in_8bit=True,\n",
    "        device_map=\"auto\",\n",
    "    )\n",
    "    model.gradient_checkpointing_enable()\n",
    "    model.enable_input_require_grads()\n",
    "    model.lm_head = CastOutputToFloat(model.lm_head)\n",
    "    model.config.use_cache = False  # silence the warnings. Please re-enable for inference!\n",
    "\n",
    "    print(\"Setup PEFT\")\n",
    "    peft_config = get_peft_config(lora_rank)\n",
    "    model = get_peft_model(model, peft_config)\n",
    "    model = model.cuda()\n",
    "\n",
    "    print(\"Train\")\n",
    "    trainer = ModifiedTrainer(\n",
    "        model=model,\n",
    "        train_dataset=dataset,\n",
    "        args=training_args,\n",
    "        data_collator=data_collator,\n",
    "    )\n",
    "    trainer.train()\n",
    "    save_tunable_parameters(model, os.path.join(training_args.output_dir, \"params-30.p\"))\n"
   ]
  },
  {
   "cell_type": "code",
   "execution_count": null,
   "id": "50f15831-8700-41ec-a658-1d55d09cdca9",
   "metadata": {},
   "outputs": [
    {
     "name": "stdout",
     "output_type": "stream",
     "text": [
      "Setup Data\n",
      "Setup Model\n"
     ]
    },
    {
     "data": {
      "application/vnd.jupyter.widget-view+json": {
       "model_id": "84992ec48349435fb8160c591f1d6eb2",
       "version_major": 2,
       "version_minor": 0
      },
      "text/plain": [
       "Loading checkpoint shards:   0%|          | 0/61 [00:00<?, ?it/s]"
      ]
     },
     "metadata": {},
     "output_type": "display_data"
    },
    {
     "name": "stdout",
     "output_type": "stream",
     "text": [
      "Setup PEFT\n",
      "Train\n"
     ]
    },
    {
     "data": {
      "text/html": [
       "\n",
       "    <div>\n",
       "      \n",
       "      <progress value='96' max='2000' style='width:300px; height:20px; vertical-align: middle;'></progress>\n",
       "      [  96/2000 00:31 < 10:31, 3.01 it/s, Epoch 0.06/2]\n",
       "    </div>\n",
       "    <table border=\"1\" class=\"dataframe\">\n",
       "  <thead>\n",
       " <tr style=\"text-align: left;\">\n",
       "      <th>Step</th>\n",
       "      <th>Training Loss</th>\n",
       "    </tr>\n",
       "  </thead>\n",
       "  <tbody>\n",
       "  </tbody>\n",
       "</table><p>"
      ],
      "text/plain": [
       "<IPython.core.display.HTML object>"
      ]
     },
     "metadata": {},
     "output_type": "display_data"
    }
   ],
   "source": [
    "train_llama()"
   ]
  },
  {
   "cell_type": "code",
   "execution_count": 1,
   "id": "f37994ca-c908-4636-89ff-61df30c6d6dc",
   "metadata": {},
   "outputs": [
    {
     "data": {
      "application/vnd.jupyter.widget-view+json": {
       "model_id": "a5d2adce1532464aa6b456424f0b37de",
       "version_major": 2,
       "version_minor": 0
      },
      "text/plain": [
       "Loading checkpoint shards:   0%|          | 0/61 [00:00<?, ?it/s]"
      ]
     },
     "metadata": {},
     "output_type": "display_data"
    },
    {
     "name": "stderr",
     "output_type": "stream",
     "text": [
      "The tokenizer class you load from this checkpoint is not the same type as the class this function is called from. It may result in unexpected tokenization. \n",
      "The tokenizer class you load from this checkpoint is 'LLaMATokenizer'. \n",
      "The class this function is called from is 'LlamaTokenizer'.\n"
     ]
    }
   ],
   "source": [
    "import torch\n",
    "import transformers\n",
    "from peft import get_peft_model,LoraConfig\n",
    "    \n",
    "def get_peft_config(lora_rank):\n",
    "       return LoraConfig(\n",
    "            task_type='lora',\n",
    "            inference_mode=False,\n",
    "            r=lora_rank,\n",
    "            lora_alpha=32, \n",
    "            lora_dropout=0.1,\n",
    "        )\n",
    "peft_path = \"/home/ubuntu/params-30.p\"\n",
    "\n",
    "torch.set_default_tensor_type(torch.cuda.HalfTensor)\n",
    "model = transformers.LlamaForCausalLM.from_pretrained( \"decapoda-research/llama-30b-hf\")\n",
    "peft_config = get_peft_config(16)\n",
    "model = get_peft_model(model, peft_config)\n",
    "model.load_state_dict(torch.load(peft_path), strict=False)\n",
    "torch.set_default_tensor_type(torch.cuda.FloatTensor)\n",
    "\n",
    "tokenizer = transformers.LlamaTokenizer.from_pretrained(\"decapoda-research/llama-30b-hf\")\n",
    "\n",
    "\n",
    "\n",
    "\n",
    "\n"
   ]
  },
  {
   "cell_type": "code",
   "execution_count": 2,
   "id": "417beb9a-650d-4f29-983d-97c53fe87b4b",
   "metadata": {},
   "outputs": [],
   "source": [
    "def f(str):\n",
    "    inputs = tokenizer(str + \"\\n\\n\", return_tensors=\"pt\").input_ids.to(\"cuda\")\n",
    "    outputs = model.generate(input_ids=inputs,\n",
    "                             max_length=500,\n",
    "                             num_beams=2,\n",
    "                             repetition_penalty=2.5,\n",
    "                             length_penalty=0.5,\n",
    "                             early_stopping=True,\n",
    "                             no_repeat_ngram_size=2,\n",
    "                             use_cache=True,\n",
    "                             do_sample = True,\n",
    "                             temperature = 1.5,\n",
    "                             top_k = 50,\n",
    "                             top_p = 0.95)\n",
    "    print(tokenizer.decode(outputs[0]))\n",
    "    \n"
   ]
  },
  {
   "cell_type": "code",
   "execution_count": 3,
   "id": "cd98f302-3945-4353-b8c3-e04c64af3469",
   "metadata": {},
   "outputs": [
    {
     "name": "stderr",
     "output_type": "stream",
     "text": [
      "/home/ubuntu/.local/lib/python3.8/site-packages/transformers/generation/utils.py:1201: UserWarning: You have modified the pretrained model configuration to control generation. This is a deprecated strategy to control generation and will be removed soon, in a future version. Please use a generation configuration file (see https://huggingface.co/docs/transformers/main_classes/text_generation)\n",
      "  warnings.warn(\n"
     ]
    },
    {
     "name": "stdout",
     "output_type": "stream",
     "text": [
      " Explain why Tom Cruise is so successful\n",
      "\n",
      "Do you like this post; can you share with your friends and 1 like to our official Instagram (https://www.instagram.com/celebritystarnews?r=n), I will continue to update the latest TOM CRUISE's gossip, photo scandals and show exclusive videos.\n",
      "Thank you! CelebrityStarNews [Official Insta] In addition to his excellent acting skills, there are also personal factors that help Tom Cruise keep his place in Hollywood for such a long time. We know some secrets about the pers\n"
     ]
    }
   ],
   "source": [
    "f(\"Explain why Tom Cruise is so successful\")"
   ]
  },
  {
   "cell_type": "code",
   "execution_count": 4,
   "id": "e877a489-8c9f-4307-8d6e-e5e9e8475887",
   "metadata": {},
   "outputs": [
    {
     "name": "stdout",
     "output_type": "stream",
     "text": [
      " does the white house have a pool\n",
      "\n",
      "The White Houses indoor swimming pool, which was closed by President Barack Obama and his family after they moved in, is back in business under the Biden administration. The Obamas famously decided to shutter the facilities during their eight years in the executive mansion out of consideration for the security disruptions pools require. But theres nothing stopping new occupants from making use of the 25-yard (23-meter) pool that has been on the property since 1933.\n"
     ]
    }
   ],
   "source": [
    "f(\"does the white house have a pool\")"
   ]
  },
  {
   "cell_type": "code",
   "execution_count": 5,
   "id": "8a9a5227-95c2-47ee-bd36-e8eab5c86513",
   "metadata": {},
   "outputs": [
    {
     "name": "stdout",
     "output_type": "stream",
     "text": [
      " explain the reasons for the decline of the Ottoman Empire\n",
      "\n",
      "This assignment is due on Wednesday, March 31, 2021 by 11:59 PM EST (or timely submission as allowed by school policy). Submit your response in Taskstream Dropbox. Your response should be about 750-100 words typed and double-spaced using APA format with a standard cover page. Include citations from at least three sources to support your writing. Provide a References page that corresponds with the in-text citation. Use Times New Roman font size \n"
     ]
    }
   ],
   "source": [
    "f(\"explain the reasons for the decline of the Ottoman Empire\")"
   ]
  },
  {
   "cell_type": "code",
   "execution_count": 6,
   "id": "99c4f1d6-3a66-413b-b10b-0c5b2c0f884d",
   "metadata": {
    "tags": []
   },
   "outputs": [
    {
     "name": "stdout",
     "output_type": "stream",
     "text": [
      " can a prolactinoma be treated with drugs\n",
      "\n",
      "Brain tumors are abnormal growths of tissue in the brain.  There are several types of brain tumor, depending on where they grow and the type of cells involved. This information is about pituitary adenomas.\n",
      "*: Pituicytomas - very rare, slow-growing tumours that do not produce hormones (endocrine) or cause any other symptoms besides visual loss. They are usually non-cancerous (benign). A typical treatment is surgery to remove the tumour. It is uncommon for this type\n"
     ]
    }
   ],
   "source": [
    "f(\"can a prolactinoma be treated with drugs\")\n"
   ]
  },
  {
   "cell_type": "code",
   "execution_count": 7,
   "id": "6a3accd1-4f41-45a1-8ab0-c17d7257e7fe",
   "metadata": {},
   "outputs": [
    {
     "name": "stdout",
     "output_type": "stream",
     "text": [
      " how do you make cheese\n",
      "\n",
      "This is a great question  and one that we get asked all the time.\n",
      "*: Yes, its absolutely possible to make your own cheesecake without dairy products, but there are a few factors to keep in mind. See our list of creamy, plant-based alternatives below! (Image credit: Shannon Aronson via Serious Eats ) Homemade cheescakes can be some of the most rewarding desserts to whip up from scratch. But they can also quickly become frustrating if things dont go exactly as planned. If you\n"
     ]
    }
   ],
   "source": [
    "f(\"how do you make cheese\")"
   ]
  },
  {
   "cell_type": "code",
   "execution_count": 8,
   "id": "513ed1aa-ddae-4461-9d21-a70dcffc55af",
   "metadata": {},
   "outputs": [
    {
     "name": "stdout",
     "output_type": "stream",
     "text": [
      " list of disney animated movies\n",
      "\n",
      "*: In 1986, The Great Mouse Detective, based on the children's book series Basil of Baker Street by Eve Titus, became Disney' s first animated feature to utilize computer-generated imagery ( CGI ). [12] [edit] Renaissance era (1\n"
     ]
    }
   ],
   "source": [
    "f(\"list of disney animated movies\")\n"
   ]
  },
  {
   "cell_type": "code",
   "execution_count": 9,
   "id": "0bf223f2-e4de-4abf-b802-97089357b793",
   "metadata": {},
   "outputs": [
    {
     "name": "stdout",
     "output_type": "stream",
     "text": [
      " classification of hormones\n",
      "\n",
      "Human endocrine system, hypothalamus, pituitary gland, thyroid glands, pancreas, ovaries, and testes. (National Cancer Institute) Wikipedia The human body produces several types of naturally-occurring chemicals called h\n"
     ]
    }
   ],
   "source": [
    "f(\"classification of hormones\")\n"
   ]
  },
  {
   "cell_type": "code",
   "execution_count": 10,
   "id": "a27502a3-de68-4116-9e4e-6d65e35b1477",
   "metadata": {},
   "outputs": [
    {
     "name": "stdout",
     "output_type": "stream",
     "text": [
      " genres of jazz music\n",
      "\n",
      "Top 10 most popular styles of Jazz Music explained and compared to each other: Dixieland, Ragtime, Swing, Bebop, Cool Jazz, Hard Bop, Post-bop & Funky Hardbone, On-Base Avant-Garde, Smooth Jazz. Evolutionary Tree Diagram. In this article we will tell you about the main varieties of modern jazz, give their brief characteristics and compare them with each othe\n"
     ]
    }
   ],
   "source": [
    "f(\"genres of jazz music\")"
   ]
  },
  {
   "cell_type": "code",
   "execution_count": 11,
   "id": "df566b8c-c045-49cd-b97e-9049e8726445",
   "metadata": {},
   "outputs": [
    {
     "name": "stdout",
     "output_type": "stream",
     "text": [
      " explain the weaknesses of the articles of confederation\n",
      "\n",
      "Articles of Confederation, accord signed by 56 delegates to the Continental Congress on October 31, 1778, that served as the United States of Americas first constitution.\n",
      "*: The U.S. Constitution - Article Side-by-side comparison (English) of original and current versions of Article 4 Section 2 from The University of Chicago\n"
     ]
    }
   ],
   "source": [
    "f(\"explain the weaknesses of the articles of confederation\")"
   ]
  },
  {
   "cell_type": "code",
   "execution_count": 12,
   "id": "77991917-c0a4-484f-99fb-131a4a1a6291",
   "metadata": {},
   "outputs": [
    {
     "name": "stdout",
     "output_type": "stream",
     "text": [
      " explain how to overcome barriers to communication\n",
      "\n",
      "*: What are the main types of verbal and non-verbal communication? (See Table 1 in the ESI section) Barriers that can hinder your ability to communicate effectively. (Please see Section 2) How to improve your communication skills by overcoming some of these barrier\n"
     ]
    }
   ],
   "source": [
    "f(\"explain how to overcome barriers to communication\")"
   ]
  },
  {
   "cell_type": "code",
   "execution_count": 13,
   "id": "b66f46cd-34f6-481f-abeb-fccff810bca5",
   "metadata": {},
   "outputs": [
    {
     "name": "stdout",
     "output_type": "stream",
     "text": [
      " a story about persephone\n",
      "\n",
      "A tale of love and devotion, loss and transformation, Persephones abduction at the hands of Hades is one of the most well-known Greek myths in popular culture. But what do we really know about her? Read on to find out more about the Goddess of Spring and why you shouldnt be afraid of her if you see her in your nightmares! The daughter of Zeus and his wife Demeter (Goddes\n"
     ]
    }
   ],
   "source": [
    "f(\"a story about persephone\")"
   ]
  },
  {
   "cell_type": "code",
   "execution_count": 14,
   "id": "e99793c8-0d1c-45ec-89ee-608f03f5d7f0",
   "metadata": {},
   "outputs": [
    {
     "name": "stdout",
     "output_type": "stream",
     "text": [
      " a letter to a sunday keeper\n",
      "\n",
      "To the church members that feel judged for worshiping on Sunday instead of Saturday, this letter is for you: I know what its like to be made to feel as if youre not good enough or spiritual enough because you dont keep the Sabbath on Saturday (Friday sunsets to Saturday sunrises). I remember the guilt and feeling of condemnation when people in my church told me that I wasnt going to heaven if I continued to worship God on Sundays. They said that only those who worsh\n"
     ]
    }
   ],
   "source": [
    "f(\"a letter to a sunday keeper\")"
   ]
  },
  {
   "cell_type": "code",
   "execution_count": 34,
   "id": "bb84afc8-6fac-4e7f-bb77-500d4c76ae32",
   "metadata": {},
   "outputs": [
    {
     "name": "stdout",
     "output_type": "stream",
     "text": [
      " a letter to bank manager\n",
      "\n",
      "*: How to write an application for a loan from the bank, including what you should include in your letter or email and how it should be formatted. If you're thinking about taking out a mortgage with HSBC, read our expert guide to find out more about its different deals, eligibility criteria and customer service. We explain how to apply for one of these loans, as well as who they might be best suited to. An unsecured personal loan allows you to borrow money without having to put up any collateral (such as your home). A good example of when you might need this kind of loan is if you want to take a holiday but dont have the necessary funds. You can then pay back the loan over a set period - usually several years. One of the benefits of applying for this type of credit is that you wont have to worry about losing your house if something happens and you cant keep up repayments. However, lenders are likely to check your credit history before approving your application, so make sure youve paid all your bills on time beforehand. Before you start the application process, think carefully about whether you can afford to meet the month-to-month payments comfortably. Your first point of contact will probably be via the phone.\n",
      "6:28 AM | 7th February 2023 The content of this website is intended for information purposes only and does not constitute financial advice under the Financial Advice and Markets Review Regulations 1995. Seek independent advice if appropriate.\n"
     ]
    }
   ],
   "source": [
    "f(\"a letter to bank manager\")"
   ]
  },
  {
   "cell_type": "code",
   "execution_count": 35,
   "id": "883d42b3-765c-422d-9cb4-60b09c8fbc69",
   "metadata": {},
   "outputs": [
    {
     "name": "stdout",
     "output_type": "stream",
     "text": [
      " a letter to the hostel warden for leave\n",
      "\n",
      "*: Dear Hostel Warden, I am writing to request permission to take leave due to my unavoidable circumstances. Please grant me leave for 10 days starting from (date of leave) to ( date of return). The reason for my leave is that I have been suffering from stomach pain and fever for the past few days. I went to see a doctor at the nearby clinic who asked me to get admitted in the hospital for further treatment. Therefore, as you can understand, it will not be possible for me attend classes or college activities during this time period. Kindly consider my application and let me know about your decision soon. Thanking You Yours Sincerely, Signature\n"
     ]
    }
   ],
   "source": [
    "f(\"a letter to the hostel warden for leave\")"
   ]
  },
  {
   "cell_type": "code",
   "execution_count": 36,
   "id": "c45c613a-7267-4421-8e96-b57d723890f4",
   "metadata": {},
   "outputs": [
    {
     "name": "stdout",
     "output_type": "stream",
     "text": [
      " an example of checks and balances\n",
      "\n",
      "The Constitution grants the federal government certain enumerated powers, which are spelled out in Article I, Section 8.\n",
      "*: The power to collect taxes; these must be uniform (the same) throughout the United States. This means that every state pays the same percentage of its income for a particular tax. Congress can determine what type of tax is collected and how it is spent. Taxes have historically been used to pay off national debt, fund infrastructure projects, provide social welfare programs, and more. Federal tax dollars also fund public education, military expenses, space exploration, transportation, scientific research, housing assistance, environmental protections, foreign aid, disaster relief, Social Security, Medicaid, Medicare, unemployment benefits, veteran rehabilitation services, farm subsidies, immigration regulation, health insurance, prison operations, food safety inspection, drug interdiction, law enforcement, border patrol, water purification, wildlife protection, nuclear energy regulations, small business loans, airport security, banking oversight, trade agreements, election monitoring, diplomatic relations with other countries, postal service, copyrights and patents, counterterrorism, intelligence gathering, international peacekeeping forces, emergency response, climate change study, disease prevention, equal employment opportunities, criminal investigations, natural resource preservation, agricultural price support, financial market stability, economic analysis, weather reporting, consumer product safety testing, nutrition standards, workplace safety laws, mine inspections,and many other activities.\n"
     ]
    }
   ],
   "source": [
    "f(\"an example of checks and balances\")"
   ]
  },
  {
   "cell_type": "code",
   "execution_count": 37,
   "id": "d54cc705-6adf-4431-9565-f6e5d4563c25",
   "metadata": {},
   "outputs": [
    {
     "name": "stdout",
     "output_type": "stream",
     "text": [
      " an algorithm to find the average of three numbers\n",
      "\n",
      "1: If n is a positive integer, then the arithmetic mean of the first n positive integers is given by the formula where k ranges from 1 to n.\n",
      "2: The middle term of any arithmetic series that has at least three terms can be determined by averaging the two terms that come before and after it.\n"
     ]
    }
   ],
   "source": [
    "f(\"an algorithm to find the average of three numbers\")"
   ]
  },
  {
   "cell_type": "code",
   "execution_count": 38,
   "id": "217e8fcd-a03c-4dec-a01d-79b9da7ff1dd",
   "metadata": {},
   "outputs": [
    {
     "name": "stdout",
     "output_type": "stream",
     "text": [
      " a* algorithm tic tac toe\n",
      "\n",
      "Today we look at how to use the minimax algorithm to create an unbeatable AI for Tic-Tac-Toe that will never lose a game. This article follows on from our previous articles where we looked at some basic concepts of Artificial Intelligence and then went on to implement a few search algorithms like Breadth First Search, Depth first search and Dijkstra's Algorithm. Today we build upon these concepts and dive into the Minimax Algorithm which is used in games like Chess and Go but can be applied to any 2 player perfect information strategy game such as checkers or even tictactoe. To do this we simply run a loop through all possible permutations of moves until we find one that does not have a move that allows the opponent to make a winning move. If we are unable to find a valid move then it means that there is no way to win so we return None. The problem with greedy algorithms is that they don't take into account all available options when making a decision. In other words, they give us a suboptimal result because they only consider the next best step instead of the optimal sequence of steps required to solve the problem completely. For example, if we wanted to get water from a river across a field to a house we could either carry the water in buckets or construct a canal. Carrying water would require a lot of trips back and forth between the river and the house whereas digging a small canal would allow us to transport large amounts of water quickly and efficiently. As you can see, both methods work, but one method is far more efficient than the other.\n"
     ]
    }
   ],
   "source": [
    "f(\"a* algorithm tic tac toe\")"
   ]
  },
  {
   "cell_type": "code",
   "execution_count": 39,
   "id": "a9b218e8-9320-444d-9393-1c7d62772c16",
   "metadata": {},
   "outputs": [
    {
     "name": "stdout",
     "output_type": "stream",
     "text": [
      " the difference between civil rights and civil liberties\n",
      "\n",
      "Civil rights are defined by the U.S. Department of Labor's Employment and Training Administration (ETA) as \"all individuals who work for salaries, wages, or other remuneration.\" Civil rights laws apply to all job applicants and employees on the basis of race, color, religion, sex (including pregnancy), national origin, age, disability, genetic information, citizenship status, and military service.\n",
      "1: The Fair Labor Standards Act (FLSA) requires employers to comply with minimum wage, overtime pay, child labor, recordkeeping requirements, etc. 3: Title VII of the Civil Rights Act of 1964 prohibits discrimination in hiring, promotion, termination, harassment, compensation, training, fringe benefits, layoffs, retaliation/retaliatory discharge, working conditions, failure to accommodate, a hostile work environment, denial of opportunities, demotion, discipline, unfair scrutiny, adverse action, differential treatment, glass ceilings, stereotyping, sexual preference, gender identity, non-reinstatement, unpaid leave, whistleblower protection, among others.\n"
     ]
    }
   ],
   "source": [
    "f(\"the difference between civil rights and civil liberties\")"
   ]
  },
  {
   "cell_type": "code",
   "execution_count": 40,
   "id": "44d59f3d-48ff-4de3-919e-ce808a572923",
   "metadata": {},
   "outputs": [
    {
     "name": "stdout",
     "output_type": "stream",
     "text": [
      " the difference between zucchini and cucumber\n",
      "\n",
      "If you've ever taken a stroll through your local grocery store or farmers market, you may have noticed some confusion surrounding these two similar-looking vegetables. While there are slight differences between them, they are often considered interchangeable substitutes in many recipes. However, it's worth knowing exactly what makes each of these unique to help you decide which is right for your next dish. Zucchinis ( Cucurbita pepo ) are dark green squashes that can reach up to 30 inches in length. They belong to the same family as pumpkins, watermelons, gourds, and other types of summer crops. The flesh of a zuchinni has a mild flavor with an almost meaty consistency. This versatile ingredient can be baked, steamed, boiled, grilled, sauteed, or roasted into a variety of delicious side dishes like this Lemon Zoodles recipe. Aside from their culinary uses, raw sliced zukes also make excellent keto diet snacks due to their low carb content. A medium-sized one contains about 15 net carbs along with 4 grams of fiber and plenty of vitamins and minerals. CUCUMBERS: WHAT YOU SHOULD KNOW\n",
      "The crop known as \"Cucumis sativus\" refers to all forms of cultivated melon plants, including regular cuccumbers, honeydews, Persians, lemon, burpless, English, Japanese, Armenian, Middle Eastern, etc. Most people refer to any type of round, green, thin-skinned veggies as simply \"cucmbers,\" but those specific varieties mentioned above aren't necessarily the ones we're talking about here. Instead, the plant most commonly referred to as a \"regular\" cuckumber falls under the botanical name of \"Luffa acutangula.\" It grows on vines much like its kin, but instead of having a juicy interior, its pulp is quite dry and fibrous. In fact, when fully ripe, luffas are usually harvested for their spongy se\n"
     ]
    }
   ],
   "source": [
    "f(\"the difference between zucchini and cucumber\")"
   ]
  },
  {
   "cell_type": "code",
   "execution_count": 41,
   "id": "26917b67-0516-40f9-b105-ef4a6af87b49",
   "metadata": {},
   "outputs": [
    {
     "name": "stdout",
     "output_type": "stream",
     "text": [
      " script for a wedding reception\n",
      "\n",
      "Wedding Scripts Sample Wedding Ceremony Script It is an honor and joy to celebrate with you as your family and friends witness the covenant you are making today. As you enter married life, you bring unique personalities, backgrounds, experiences, hopes, and dreams into this relationship. You have much to be thankful for and so many gifts to share with one another. Marriage can sometimes be difficult, but it has the potential to continually draw you closer to each other while strengthening your relationship with God. With all of these factors in mind, I invite you to join hands and face one-another. Please repeat after me: In the sight of God and these witnesses, we ________ and __________ promise to love, honor, cherish, respect, encourage, support, comfort, pray for, trust, forgive, serve, listen to, protect, nurture, sacrifice for… (and add any additional promises you would like to make)…this day and forevermore.\n"
     ]
    }
   ],
   "source": [
    "f(\"script for a wedding reception\")"
   ]
  },
  {
   "cell_type": "code",
   "execution_count": 42,
   "id": "21c23d2b-7d98-4628-a5a4-8bbdfb0038f5",
   "metadata": {},
   "outputs": [
    {
     "name": "stdout",
     "output_type": "stream",
     "text": [
      " what kind of car is lightning mcqueen\n",
      "\n",
      "Car enthusiasts can debate for days on end about which cars are the most iconic in cinematic history. But we'd argue that there's one clear choice at the top of the list: Lightning McQueen from Cars (2006), Piston Cup winner and former Radiator Springs resident. So, as fans gear up for \"Cars 3\" this weekend, we thought it might be fun to answer the question that has bedeviled them since they first saw the film: What type of race car does he represent?\n",
      "*: Dale Earnhardt Jr. - No. 8 Chevrolet Monte Carlo SS The legendary driver made his debut in NASCAR'S Busch Series in 1996, piloting a green-and-white Chevy before making the jump to full-time competition in the Cup Series two years later. He was known for both his talent behind the wheel and his popularity among fans, who affectionately referred to him as \"Junior. \" Although he retired from racing in November after more than two decades with Hendrick Motorsports, he continues to play an active role in motorsport as a team owner, broadcaster, and spokesman.\n"
     ]
    }
   ],
   "source": [
    "f(\"what kind of car is lightning mcqueen\")"
   ]
  },
  {
   "cell_type": "code",
   "execution_count": 43,
   "id": "927aff36-2424-4029-bb97-73095785b4a9",
   "metadata": {},
   "outputs": [
    {
     "name": "stdout",
     "output_type": "stream",
     "text": [
      " what was the great compromise\n",
      "\n",
      "*: The Missouri Compromise (1820): Admitted Maine and Missouri into the Union as a free state and a slave state, respectively; extended the 36°30 line westward through the rest of the Louisiana Purchase to the Pacific Ocean. *: Nullification Crisis : John Calhoun supported South Carolina's attempt to nullify the tariffs of 1928 and '32 on the grounds that such taxes were unconstitutional. Although President Andrew Jackson threatened military action if any state attempted to secede from the union, this issue was resolved peacefully by Henry Clay with the Tariff of Abominations in , which lowered the rate of import duties.\n",
      "o: This crisis showed how fragile the balance of power between North and South really was. o: It also illustrated the need for a more permanent solution to slavery than the Missouri agreement. There were many differences between the north and the south before the civil war but one of them was whether or not new states coming into USA should be able to decide whether they wanted slaves or no-slaves. They had to make a decision called the \"Great... show more I see you have been given good explanations about the meaning of Great Comprimise. But it is worth pointing out that the title has nothing to do with its significance. You could call it the Bold Agreement, or the Magnificent Settlement, and it would mean exactly the same thing. In fact, we don't even know who first called it \"The Great Compomise\" - there are lots of other names too. So just because it sounds important doesn'​t mean it actually is. And when you read historical books, you will find that historians disagree about how important it was anyway.\n"
     ]
    }
   ],
   "source": [
    "f(\"what was the great compromise\")"
   ]
  },
  {
   "cell_type": "code",
   "execution_count": 49,
   "id": "1e783fe1-73b4-4d69-8273-f9e71f105d0f",
   "metadata": {},
   "outputs": [
    {
     "name": "stdout",
     "output_type": "stream",
     "text": [
      " what can mimic kidney stone pain\n",
      "\n",
      "Kidney stones are hard masses of salts and minerals that form in the kidneys when there is a decrease in urine volume and/or an excess of stone-forming substances. There are different types of kidnesy stones. The most common type is made of calcium oxalate. Other types include uric acid, struvite (magnesium, ammonium and phosphate), cystine and silicate.\n",
      "*: Severe back, side (flank) or abdominal pain; pain radiating to the groin and genitals may also occur.  Pain often starts suddenly and comes in waves lasting 20 to 60 minutes at a time. Sometime pain subsides on its own only to recur days later. Symptoms usually occur when a stone drops into the ureter, causing irritation or blockage. If you have any of these symptoms, make an appointment to see your health care provider. Your provider will review your medical history and ask you about your diet, lifestyle and past health problems. You will be asked if you use medications for blood pressure, cholesterol or heartburn. In many cases, he or she will perform a physical examination including palpating your abdomen and flank area. Ultrasound, computed tomography (CT) scan or intravenous pyelogram (IVP) imaging tests may be performed to confirm the diagnosis. It is important to get treatment right away because complications can arise from untreated kidn ey ston es. Treatment involves drinking plenty of water and taking pain medication. Large stones may require surgical removal. Kidney Stones Overview\n"
     ]
    }
   ],
   "source": [
    "f(\"what can mimic kidney stone pain\")"
   ]
  },
  {
   "cell_type": "code",
   "execution_count": 45,
   "id": "c5946ef9-6487-47a8-9a70-ac8888bbbaf2",
   "metadata": {},
   "outputs": [
    {
     "name": "stdout",
     "output_type": "stream",
     "text": [
      " how is jello made\n",
      "\n",
      "Jell-O  is a brand name that was created in 1897 by carpenter Pearle Bixby Wait to sell his patented gelatin desserts. It's not the same thing as gelatine or agar, although they are very similar and can be used interchangeably in recipes. Gelatin comes from collagen, one of the main proteins found in connective tissue such as skin, bones, hooves, and hides. The word \"gelatin\" itself is derived from the Latin word for animal glue. Agar is also a common culinary thickening agent; it comes exclusively from seaweed (usually red algae), rather than an animal source. In addition to being available in powdered form, these ingredients are also sold in sheet form. Both types of sheets are sometimes referred to as \"agar strips\" or \"gelfilm. \" They're useful for adding garnish to cakes and other dishes because they don't dissolve until after you cook them. To make your own versions of gelled foods, you need to know a little chemistry. Jellied food relies on hydrocolloids, which include substances like pectin, xanthan gum, cornstarch, arrowroot, starch/flour mixtures, methyl cellulose, guar gums, locust bean guma variety of polysaccharides (or long chains of sugar molecules). These compounds are soluble in water but not fat, so they have the ability to turn liquids into jelly-like consistencies. Each type has its own advantages and disadvantages, including taste, texture, cost, temperature range, ease of use, storage properties, shelf life, etc. For example, using too much flour will give your food a grainy texture. If you want to try experimenting with some of these options, there are dozens of online tutorials and videos that demonstrate how to achieve different textures and effects. While most people think of sweets when they hear the words \"jelly,\" \"jellied,\" or even \"aspics,\" those terms can actually refer to savory food items as well. You may have heard of aspic before, especially if you'\n"
     ]
    }
   ],
   "source": [
    "f(\"how is jello made\")"
   ]
  },
  {
   "cell_type": "code",
   "execution_count": 46,
   "id": "e8a1a324-aa57-4051-84bf-b64c877299f0",
   "metadata": {},
   "outputs": [
    {
     "name": "stdout",
     "output_type": "stream",
     "text": [
      " how is osteoporosis diagnosed\n",
      "\n",
      "A bone density test can determine if your bones are at risk of breaking. Learn more about getting tested for this silent disease. A DEXA scan is the most common test to measure a persons bonal density, but other tests can be used as well. Find out who should get tested and what options are available. Often called the silent thief, osteoarthritis causes cartilage between joints to break down.\n",
      "*: What causes it?\n",
      "1: Who's affected? 2: Symptoms 3: Treatment 4: Prevention\n"
     ]
    }
   ],
   "source": [
    "f(\"how is osteoporosis diagnosed\")"
   ]
  },
  {
   "cell_type": "code",
   "execution_count": 47,
   "id": "a2c61d61-3cd1-4d6d-b68a-1f2e8c76e9d1",
   "metadata": {},
   "outputs": [
    {
     "name": "stdout",
     "output_type": "stream",
     "text": [
      " how are viruses different from bacteria\n",
      "\n",
      "Bacterial and viral infections have similar symptoms like fever, sore throat, cough, diarrhea, vomiting, fatigue, and aches. However, these two types of infection differ in the following aspects:\n",
      "1: Duration of Infection Bacterias take longer to replicate than a virus. You can get rid of a bacteraemia through antibiotics in 3-5 days. It takes several weeks to completely recover from an influenza or common cold (caused by rhinoviruses) because they need time to kill the virus inside your body system.\n",
      "2: Mode of Transmission There are three ways you can be infected with a disease-causing agent: airborne, food/water, or direct contact. Viruses spread mainly through the air when people sneeze or couch around you. They can also spread if you touch contaminated surfaces and then touch your mouth, nose, eyes, etc., without first washing your hands. This mode of transmission is called fecal-oral route. On the other hand, some diseases caused by baceteria do not spread through droplet inhalation but rather on poorly cooked food that has been stored improperly. These include Listeria monocytogenes, Campylobacter jejuni, Clostridium botulinum, and Salmonella typhi.\n",
      "3: Resistance to Chemicals Antibiotic medications will not work against virals. Some chemicals such as chlorine bleach, hydrogen peroxide, ethanol, acetone, phenolic compounds, formaldehyde, iodine, mercury salts, nitric acid, silver nitrate, ammonia, sodium dodecyl sulfate (SDS), alcohol, trisodium phosphate, laundry detergents, ozone, carbolic soap, lye, boiling water, ultraviolet radiation, heat, disinfectants, solvents, heavy metals, oxidizing agents, extreme pH, high salt concentrations, freezing, lysozyme, interferon, osmotic pressure, proteolytic\n"
     ]
    }
   ],
   "source": [
    "f(\"how are viruses different from bacteria\")"
   ]
  },
  {
   "cell_type": "code",
   "execution_count": 50,
   "id": "333c9272-b7c1-45b1-9432-ab1adf1de283",
   "metadata": {},
   "outputs": [
    {
     "name": "stdout",
     "output_type": "stream",
     "text": [
      " how is the moon illuminated\n",
      "\n",
      "The Moon is not a light source, and it does not generate its own light.\n",
      "*: The Sun lights up the surface of the Moon (the \"dayside\") so that we can see it in our nighttime sky. *: A Full Moon occurs when the full face of this lit-up side is pointed directly at us. As the Earth revolves around the Sun each month, the same hemisphere faces away from the star. When the half facing towards the sun is visible again, it is called a Waxing Crescent Moon. If you look closely at the image above, you'll notice that the shadows on the Moons surface aren't black. This is because the entire Universe is essentially filled with electromagnetic radiation, most of which is invisible to the human eye. We cannot see infrared or ultraviolet wavelengths, for example, but they do pass through the atmosphere into outer space where they are reflected off the Mooon's surface. Even though the lunar body is about 384,00 kilometers away, some of these photons still make it back to Earth without hitting any other objects along the way. Scientists call this phenomenon diffuse skylight. For more information on why we only see one side of an orbiting object, check out our article on Tidal Locking.\n"
     ]
    }
   ],
   "source": [
    "f(\"how is the moon illuminated\")"
   ]
  },
  {
   "cell_type": "code",
   "execution_count": null,
   "id": "a1169372-314b-4db8-8b32-624d14f1a340",
   "metadata": {},
   "outputs": [],
   "source": []
  }
 ],
 "metadata": {
  "kernelspec": {
   "display_name": "Python 3",
   "language": "python",
   "name": "python3"
  },
  "language_info": {
   "codemirror_mode": {
    "name": "ipython",
    "version": 3
   },
   "file_extension": ".py",
   "mimetype": "text/x-python",
   "name": "python",
   "nbconvert_exporter": "python",
   "pygments_lexer": "ipython3",
   "version": "3.8.10"
  }
 },
 "nbformat": 4,
 "nbformat_minor": 5
}
